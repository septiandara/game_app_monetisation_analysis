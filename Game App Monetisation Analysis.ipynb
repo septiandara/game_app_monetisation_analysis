{
 "cells": [
  {
   "cell_type": "markdown",
   "id": "45985c29",
   "metadata": {},
   "source": [
    "# Game App Monetisation Analysis"
   ]
  },
  {
   "cell_type": "markdown",
   "id": "9a36f902",
   "metadata": {},
   "source": [
    "Folder Link: https://drive.google.com/drive/folders/150H4STmnpVoFDfYIiGB2-Dm-vXwxyaSg?usp=sharing\n",
    "\n",
    "The dashboard for this analysis can be found here: https://public.tableau.com/views/GameMonetisationAnalysis/Dashboard1?:language=en-GB&publish=yes&:display_count=n&:origin=viz_share_link"
   ]
  },
  {
   "cell_type": "code",
   "execution_count": 1,
   "id": "227c428e",
   "metadata": {},
   "outputs": [],
   "source": [
    "import pandas as pd\n",
    "import numpy as np\n",
    "import datetime\n",
    "import matplotlib.pyplot as plt\n",
    "import seaborn as sns\n",
    "from scipy import stats as st\n",
    "import warnings\n",
    "warnings.simplefilter(\"ignore\")"
   ]
  },
  {
   "cell_type": "code",
   "execution_count": 2,
   "id": "3726b9ab",
   "metadata": {},
   "outputs": [],
   "source": [
    "event = pd.read_csv('events_us.csv', parse_dates=['event_datetime'],\n",
    "                 infer_datetime_format=True)\n",
    "user = pd.read_csv('user_source_us.csv', parse_dates=['event_date'],\n",
    "                 infer_datetime_format=True)\n",
    "ad = pd.read_csv('ad_costs_us.csv', parse_dates=['day'],\n",
    "                 infer_datetime_format=True)"
   ]
  },
  {
   "cell_type": "code",
   "execution_count": 3,
   "id": "9fe49a9c",
   "metadata": {},
   "outputs": [],
   "source": [
    "def data_info(data):\n",
    "    \"\"\"This function helps simplify reading multiple datasets.\n",
    "    \n",
    "    This function takes the dataset variable as input and \n",
    "    produces the general information about each dataset, \n",
    "    including description, duplicates and missing values.\"\"\"\n",
    "    print('General dataset information:')\n",
    "    print(data.info())\n",
    "    print()\n",
    "    print('First five rows:')\n",
    "    print(data.head())\n",
    "    print()\n",
    "    print('Description of the dataset:')\n",
    "    print(data.describe())\n",
    "    print()\n",
    "    print('This dataset has {} duplicates.'.format(data.duplicated().sum()))\n",
    "    print()\n",
    "    print('How many missing values does this data have?')\n",
    "    print(data.isna().sum())\n",
    "    print()\n",
    "    print('What is the percentage of the missing values?')\n",
    "    print(data.isna().sum() / len(data))"
   ]
  },
  {
   "cell_type": "markdown",
   "id": "7dd801e9",
   "metadata": {},
   "source": [
    "## Introduction\n",
    "<a name=\"introduction\"></a>\n",
    "\n",
    "Three datasets have been provided from a game app developer called \"Space Brothers\" for analysis. The goal of this analysis is to provide a suitable monetisation model that balances players experience and profit for the developers.\n",
    "The first dataset contains events in the app, specifically users in the first stage of the game. The other two contains data related to advertising activity.\n",
    "\n",
    "This report will consist of the following:\n",
    "\n",
    "1. General information on the dataset\n",
    "2. Data preprocessing stages, removing duplicates, categorising data and adding other relevant variables\n",
    "3. Exploratory data analysis on the differences between users who pass stage 1 by defeating the enemy or building a satellite orbital system, period of finishing stage 1, number of events for users who don't pass stage 1 and daily events.\n",
    "4. Further analysis on stage 1 completion between enemy and project users.\n",
    "5. Statistical testing of the average days it takes to complete stage 1.\n",
    "\n",
    "Based on the conclusions drawn in this report, Space Brothers developers and executives will understand:\n",
    "\n",
    "1. The differences of usage behaviour between those who are shown ads and those who aren't.\n",
    "2. Whether showing ads is a suitable monetisation model."
   ]
  },
  {
   "cell_type": "markdown",
   "id": "3bc0e64f",
   "metadata": {},
   "source": [
    "### Table of contents\n",
    "1. [Introduction](#introduction)\n",
    "2. [Data Preprocessing](#dpp)\n",
    "3. [Exploratory Data Analysis](#eda)\n",
    "4. [Statistical Significance Testing](#sst)\n",
    "5. [Conclusion](#cons)"
   ]
  },
  {
   "cell_type": "code",
   "execution_count": 4,
   "id": "f70fa8cd",
   "metadata": {},
   "outputs": [
    {
     "name": "stdout",
     "output_type": "stream",
     "text": [
      "General dataset information:\n",
      "<class 'pandas.core.frame.DataFrame'>\n",
      "RangeIndex: 135640 entries, 0 to 135639\n",
      "Data columns (total 5 columns):\n",
      " #   Column          Non-Null Count   Dtype         \n",
      "---  ------          --------------   -----         \n",
      " 0   event_datetime  135640 non-null  datetime64[ns]\n",
      " 1   event           135640 non-null  object        \n",
      " 2   building_type   127957 non-null  object        \n",
      " 3   user_id         135640 non-null  object        \n",
      " 4   project_type    1866 non-null    object        \n",
      "dtypes: datetime64[ns](1), object(4)\n",
      "memory usage: 5.2+ MB\n",
      "None\n",
      "\n",
      "First five rows:\n",
      "       event_datetime     event  building_type  \\\n",
      "0 2020-05-04 00:00:01  building  assembly_shop   \n",
      "1 2020-05-04 00:00:03  building  assembly_shop   \n",
      "2 2020-05-04 00:00:16  building  assembly_shop   \n",
      "3 2020-05-04 00:00:16  building  assembly_shop   \n",
      "4 2020-05-04 00:00:35  building  assembly_shop   \n",
      "\n",
      "                                user_id project_type  \n",
      "0  55e92310-cb8e-4754-b622-597e124b03de          NaN  \n",
      "1  c07b1c10-f477-44dc-81dc-ec82254b1347          NaN  \n",
      "2  6edd42cc-e753-4ff6-a947-2107cd560710          NaN  \n",
      "3  92c69003-d60a-444a-827f-8cc51bf6bf4c          NaN  \n",
      "4  cdc6bb92-0ccb-4490-9866-ef142f09139d          NaN  \n",
      "\n",
      "Description of the dataset:\n",
      "             event_datetime     event building_type  \\\n",
      "count                135640    135640        127957   \n",
      "unique               128790         3             3   \n",
      "top     2020-05-07 03:10:43  building     spaceport   \n",
      "freq                      4    127957         59325   \n",
      "first   2020-05-04 00:00:01       NaN           NaN   \n",
      "last    2020-06-05 12:32:49       NaN           NaN   \n",
      "\n",
      "                                     user_id                project_type  \n",
      "count                                 135640                        1866  \n",
      "unique                                 13576                           1  \n",
      "top     ff841992-d93b-462e-bc6e-18c24a514f36  satellite_orbital_assembly  \n",
      "freq                                      22                        1866  \n",
      "first                                    NaN                         NaN  \n",
      "last                                     NaN                         NaN  \n",
      "\n",
      "This dataset has 1 duplicates.\n",
      "\n",
      "How many missing values does this data have?\n",
      "event_datetime         0\n",
      "event                  0\n",
      "building_type       7683\n",
      "user_id                0\n",
      "project_type      133774\n",
      "dtype: int64\n",
      "\n",
      "What is the percentage of the missing values?\n",
      "event_datetime    0.000000\n",
      "event             0.000000\n",
      "building_type     0.056643\n",
      "user_id           0.000000\n",
      "project_type      0.986243\n",
      "dtype: float64\n"
     ]
    }
   ],
   "source": [
    "data_info(event)"
   ]
  },
  {
   "cell_type": "markdown",
   "id": "870d44b8",
   "metadata": {},
   "source": [
    "The event dataset has 135640 rows, each an event from users. There are more than 13,000 unique users. There are some columns that have substantial amount of missing values, for example project_type, that has 98% missing values. "
   ]
  },
  {
   "cell_type": "code",
   "execution_count": 5,
   "id": "dba79ff6",
   "metadata": {},
   "outputs": [
    {
     "name": "stdout",
     "output_type": "stream",
     "text": [
      "General dataset information:\n",
      "<class 'pandas.core.frame.DataFrame'>\n",
      "RangeIndex: 13576 entries, 0 to 13575\n",
      "Data columns (total 3 columns):\n",
      " #   Column      Non-Null Count  Dtype         \n",
      "---  ------      --------------  -----         \n",
      " 0   user_id     13576 non-null  object        \n",
      " 1   event_date  13576 non-null  datetime64[ns]\n",
      " 2   source      13576 non-null  object        \n",
      "dtypes: datetime64[ns](1), object(2)\n",
      "memory usage: 318.3+ KB\n",
      "None\n",
      "\n",
      "First five rows:\n",
      "                                user_id event_date                   source\n",
      "0  0001f83c-c6ac-4621-b7f0-8a28b283ac30 2020-05-06             facebook_ads\n",
      "1  00151b4f-ba38-44a8-a650-d7cf130a0105 2020-05-06          google_play_ads\n",
      "2  001aaea6-3d14-43f1-8ca8-7f48820f17aa 2020-05-05  youtube_channel_network\n",
      "3  001d39dc-366c-4021-9604-6a3b9ff01e25 2020-05-05    instagram_new_adverts\n",
      "4  002f508f-67b6-479f-814b-b05f00d4e995 2020-05-05             facebook_ads\n",
      "\n",
      "Description of the dataset:\n",
      "                                     user_id           event_date  \\\n",
      "count                                  13576                13576   \n",
      "unique                                 13576                    7   \n",
      "top     2c42b9d8-2e37-4d99-bd43-421042463099  2020-05-04 00:00:00   \n",
      "freq                                       1                 5860   \n",
      "first                                    NaN  2020-05-04 00:00:00   \n",
      "last                                     NaN  2020-05-10 00:00:00   \n",
      "\n",
      "                 source  \n",
      "count             13576  \n",
      "unique                4  \n",
      "top     google_play_ads  \n",
      "freq               4817  \n",
      "first               NaN  \n",
      "last                NaN  \n",
      "\n",
      "This dataset has 0 duplicates.\n",
      "\n",
      "How many missing values does this data have?\n",
      "user_id       0\n",
      "event_date    0\n",
      "source        0\n",
      "dtype: int64\n",
      "\n",
      "What is the percentage of the missing values?\n",
      "user_id       0.0\n",
      "event_date    0.0\n",
      "source        0.0\n",
      "dtype: float64\n"
     ]
    }
   ],
   "source": [
    "data_info(user)"
   ]
  },
  {
   "cell_type": "markdown",
   "id": "f2076bd8",
   "metadata": {},
   "source": [
    "The user source dataset has 13576 rows, each row contains user ID, date and the source the user who downloaded the app came from. The dataset does not have any missing values or duplicates."
   ]
  },
  {
   "cell_type": "code",
   "execution_count": 6,
   "id": "cacf8a81",
   "metadata": {},
   "outputs": [
    {
     "name": "stdout",
     "output_type": "stream",
     "text": [
      "General dataset information:\n",
      "<class 'pandas.core.frame.DataFrame'>\n",
      "RangeIndex: 28 entries, 0 to 27\n",
      "Data columns (total 3 columns):\n",
      " #   Column  Non-Null Count  Dtype         \n",
      "---  ------  --------------  -----         \n",
      " 0   source  28 non-null     object        \n",
      " 1   day     28 non-null     datetime64[ns]\n",
      " 2   cost    28 non-null     float64       \n",
      "dtypes: datetime64[ns](1), float64(1), object(1)\n",
      "memory usage: 800.0+ bytes\n",
      "None\n",
      "\n",
      "First five rows:\n",
      "         source        day        cost\n",
      "0  facebook_ads 2020-05-03  935.882786\n",
      "1  facebook_ads 2020-05-04  548.354480\n",
      "2  facebook_ads 2020-05-05  260.185754\n",
      "3  facebook_ads 2020-05-06  177.982200\n",
      "4  facebook_ads 2020-05-07  111.766796\n",
      "\n",
      "Description of the dataset:\n",
      "             cost\n",
      "count   28.000000\n",
      "mean   271.556321\n",
      "std    286.867650\n",
      "min     23.314669\n",
      "25%     66.747365\n",
      "50%    160.056443\n",
      "75%    349.034473\n",
      "max    969.139394\n",
      "\n",
      "This dataset has 0 duplicates.\n",
      "\n",
      "How many missing values does this data have?\n",
      "source    0\n",
      "day       0\n",
      "cost      0\n",
      "dtype: int64\n",
      "\n",
      "What is the percentage of the missing values?\n",
      "source    0.0\n",
      "day       0.0\n",
      "cost      0.0\n",
      "dtype: float64\n"
     ]
    }
   ],
   "source": [
    "data_info(ad)"
   ]
  },
  {
   "cell_type": "markdown",
   "id": "110a3c90",
   "metadata": {},
   "source": [
    "The advertisement dataset has 28 rows, each contains information about user clicks on the ad for the first time. This dataset does not contain any missing values or duplicates."
   ]
  },
  {
   "cell_type": "markdown",
   "id": "f58647fa",
   "metadata": {},
   "source": [
    "### Conclusion"
   ]
  },
  {
   "cell_type": "markdown",
   "id": "b9c8b17e",
   "metadata": {},
   "source": [
    "1. Most of the data is in the event dataset, it has some missing values and duplicates that we need to process before moving to the analysis.\n",
    "2. The other datasets are mostly advertising activity, they don't have any missing values or duplicates."
   ]
  },
  {
   "cell_type": "markdown",
   "id": "2f96ec4e",
   "metadata": {},
   "source": [
    "## Data Preprocessing\n",
    "<a name=\"dpp\"></a>"
   ]
  },
  {
   "cell_type": "markdown",
   "id": "eda425ff",
   "metadata": {},
   "source": [
    "### Duplicates\n",
    "\n",
    "Based on the previous conclusions and findings, we would preprocess the datasets in this section. We would start by checking the one duplicated row."
   ]
  },
  {
   "cell_type": "code",
   "execution_count": 7,
   "id": "06e57cdc",
   "metadata": {},
   "outputs": [
    {
     "data": {
      "text/html": [
       "<div>\n",
       "<style scoped>\n",
       "    .dataframe tbody tr th:only-of-type {\n",
       "        vertical-align: middle;\n",
       "    }\n",
       "\n",
       "    .dataframe tbody tr th {\n",
       "        vertical-align: top;\n",
       "    }\n",
       "\n",
       "    .dataframe thead th {\n",
       "        text-align: right;\n",
       "    }\n",
       "</style>\n",
       "<table border=\"1\" class=\"dataframe\">\n",
       "  <thead>\n",
       "    <tr style=\"text-align: right;\">\n",
       "      <th></th>\n",
       "      <th>event_datetime</th>\n",
       "      <th>event</th>\n",
       "      <th>building_type</th>\n",
       "      <th>user_id</th>\n",
       "      <th>project_type</th>\n",
       "    </tr>\n",
       "  </thead>\n",
       "  <tbody>\n",
       "    <tr>\n",
       "      <th>74891</th>\n",
       "      <td>2020-05-10 18:41:56</td>\n",
       "      <td>building</td>\n",
       "      <td>research_center</td>\n",
       "      <td>c9af55d2-b0ae-4bb4-b3d5-f32aa9ac03af</td>\n",
       "      <td>NaN</td>\n",
       "    </tr>\n",
       "  </tbody>\n",
       "</table>\n",
       "</div>"
      ],
      "text/plain": [
       "           event_datetime     event    building_type  \\\n",
       "74891 2020-05-10 18:41:56  building  research_center   \n",
       "\n",
       "                                    user_id project_type  \n",
       "74891  c9af55d2-b0ae-4bb4-b3d5-f32aa9ac03af          NaN  "
      ]
     },
     "execution_count": 7,
     "metadata": {},
     "output_type": "execute_result"
    }
   ],
   "source": [
    "event[event.duplicated()]"
   ]
  },
  {
   "cell_type": "markdown",
   "id": "9b171aec",
   "metadata": {},
   "source": [
    "Since this is due to datetime, it might be because of a bug in the data entry system. We can remove this one as it would not affect the dataset."
   ]
  },
  {
   "cell_type": "code",
   "execution_count": 8,
   "id": "640f8ed9",
   "metadata": {},
   "outputs": [],
   "source": [
    "event = event.drop_duplicates()"
   ]
  },
  {
   "cell_type": "code",
   "execution_count": 9,
   "id": "62e67c53",
   "metadata": {},
   "outputs": [
    {
     "data": {
      "text/plain": [
       "0"
      ]
     },
     "execution_count": 9,
     "metadata": {},
     "output_type": "execute_result"
    }
   ],
   "source": [
    "event.duplicated().sum()"
   ]
  },
  {
   "cell_type": "markdown",
   "id": "e47624c4",
   "metadata": {},
   "source": [
    "Now that the duplicated row is dropped. We will move forward with processing the missing values."
   ]
  },
  {
   "cell_type": "markdown",
   "id": "53f08161",
   "metadata": {},
   "source": [
    "### Missing Values"
   ]
  },
  {
   "cell_type": "code",
   "execution_count": 10,
   "id": "ae4c9822",
   "metadata": {},
   "outputs": [
    {
     "data": {
      "text/html": [
       "<div>\n",
       "<style scoped>\n",
       "    .dataframe tbody tr th:only-of-type {\n",
       "        vertical-align: middle;\n",
       "    }\n",
       "\n",
       "    .dataframe tbody tr th {\n",
       "        vertical-align: top;\n",
       "    }\n",
       "\n",
       "    .dataframe thead th {\n",
       "        text-align: right;\n",
       "    }\n",
       "</style>\n",
       "<table border=\"1\" class=\"dataframe\">\n",
       "  <thead>\n",
       "    <tr style=\"text-align: right;\">\n",
       "      <th></th>\n",
       "      <th>event_datetime</th>\n",
       "      <th>event</th>\n",
       "      <th>building_type</th>\n",
       "      <th>user_id</th>\n",
       "      <th>project_type</th>\n",
       "    </tr>\n",
       "  </thead>\n",
       "  <tbody>\n",
       "    <tr>\n",
       "      <th>6659</th>\n",
       "      <td>2020-05-04 19:47:29</td>\n",
       "      <td>finished_stage_1</td>\n",
       "      <td>NaN</td>\n",
       "      <td>ced7b368-818f-48f6-9461-2346de0892c5</td>\n",
       "      <td>NaN</td>\n",
       "    </tr>\n",
       "    <tr>\n",
       "      <th>13134</th>\n",
       "      <td>2020-05-05 13:22:09</td>\n",
       "      <td>finished_stage_1</td>\n",
       "      <td>NaN</td>\n",
       "      <td>7ef7fc89-2779-46ea-b328-9e5035b83af5</td>\n",
       "      <td>NaN</td>\n",
       "    </tr>\n",
       "    <tr>\n",
       "      <th>15274</th>\n",
       "      <td>2020-05-05 18:54:37</td>\n",
       "      <td>finished_stage_1</td>\n",
       "      <td>NaN</td>\n",
       "      <td>70db22b3-c2f4-43bc-94ea-51c8d2904a29</td>\n",
       "      <td>NaN</td>\n",
       "    </tr>\n",
       "    <tr>\n",
       "      <th>16284</th>\n",
       "      <td>2020-05-05 21:27:29</td>\n",
       "      <td>finished_stage_1</td>\n",
       "      <td>NaN</td>\n",
       "      <td>903fc9ef-ba97-4b12-9d5c-ac8d602fbd8b</td>\n",
       "      <td>NaN</td>\n",
       "    </tr>\n",
       "    <tr>\n",
       "      <th>19650</th>\n",
       "      <td>2020-05-06 06:02:22</td>\n",
       "      <td>finished_stage_1</td>\n",
       "      <td>NaN</td>\n",
       "      <td>58e077ba-feb1-4556-a5a0-d96bd04efa39</td>\n",
       "      <td>NaN</td>\n",
       "    </tr>\n",
       "  </tbody>\n",
       "</table>\n",
       "</div>"
      ],
      "text/plain": [
       "           event_datetime             event building_type  \\\n",
       "6659  2020-05-04 19:47:29  finished_stage_1           NaN   \n",
       "13134 2020-05-05 13:22:09  finished_stage_1           NaN   \n",
       "15274 2020-05-05 18:54:37  finished_stage_1           NaN   \n",
       "16284 2020-05-05 21:27:29  finished_stage_1           NaN   \n",
       "19650 2020-05-06 06:02:22  finished_stage_1           NaN   \n",
       "\n",
       "                                    user_id project_type  \n",
       "6659   ced7b368-818f-48f6-9461-2346de0892c5          NaN  \n",
       "13134  7ef7fc89-2779-46ea-b328-9e5035b83af5          NaN  \n",
       "15274  70db22b3-c2f4-43bc-94ea-51c8d2904a29          NaN  \n",
       "16284  903fc9ef-ba97-4b12-9d5c-ac8d602fbd8b          NaN  \n",
       "19650  58e077ba-feb1-4556-a5a0-d96bd04efa39          NaN  "
      ]
     },
     "execution_count": 10,
     "metadata": {},
     "output_type": "execute_result"
    }
   ],
   "source": [
    "event.loc[event['building_type'].isnull()].head()"
   ]
  },
  {
   "cell_type": "markdown",
   "id": "24ef72e7",
   "metadata": {},
   "source": [
    "From the first glance, it looks like the missing values in building_type is due to the users choosing not to construct a building but defeating the enemy. To be sure, let's group the event number based on building type."
   ]
  },
  {
   "cell_type": "code",
   "execution_count": 11,
   "id": "b18448b6",
   "metadata": {},
   "outputs": [
    {
     "data": {
      "text/plain": [
       "event\n",
       "building            127956\n",
       "finished_stage_1         0\n",
       "project                  0\n",
       "Name: building_type, dtype: int64"
      ]
     },
     "execution_count": 11,
     "metadata": {},
     "output_type": "execute_result"
    }
   ],
   "source": [
    "event.groupby('event')['building_type'].count()"
   ]
  },
  {
   "cell_type": "code",
   "execution_count": 12,
   "id": "7d189dc7",
   "metadata": {},
   "outputs": [
    {
     "data": {
      "text/plain": [
       "spaceport          59325\n",
       "assembly_shop      54494\n",
       "research_center    14137\n",
       "Name: building_type, dtype: int64"
      ]
     },
     "execution_count": 12,
     "metadata": {},
     "output_type": "execute_result"
    }
   ],
   "source": [
    "event['building_type'].value_counts()"
   ]
  },
  {
   "cell_type": "markdown",
   "id": "7604c406",
   "metadata": {},
   "source": [
    "Based on the numbers, there are also some users that implemented a project but not yet finished, it may be good to check them first before making any conclusion and filling up the missing values. So we will proceed with checking the project type."
   ]
  },
  {
   "cell_type": "code",
   "execution_count": 13,
   "id": "8f75cc0b",
   "metadata": {},
   "outputs": [
    {
     "data": {
      "text/plain": [
       "satellite_orbital_assembly    1866\n",
       "Name: project_type, dtype: int64"
      ]
     },
     "execution_count": 13,
     "metadata": {},
     "output_type": "execute_result"
    }
   ],
   "source": [
    "event['project_type'].value_counts()"
   ]
  },
  {
   "cell_type": "code",
   "execution_count": 14,
   "id": "e2d5dfea",
   "metadata": {},
   "outputs": [
    {
     "data": {
      "text/html": [
       "<div>\n",
       "<style scoped>\n",
       "    .dataframe tbody tr th:only-of-type {\n",
       "        vertical-align: middle;\n",
       "    }\n",
       "\n",
       "    .dataframe tbody tr th {\n",
       "        vertical-align: top;\n",
       "    }\n",
       "\n",
       "    .dataframe thead th {\n",
       "        text-align: right;\n",
       "    }\n",
       "</style>\n",
       "<table border=\"1\" class=\"dataframe\">\n",
       "  <thead>\n",
       "    <tr style=\"text-align: right;\">\n",
       "      <th></th>\n",
       "      <th>event_datetime</th>\n",
       "      <th>event</th>\n",
       "      <th>building_type</th>\n",
       "      <th>user_id</th>\n",
       "      <th>project_type</th>\n",
       "    </tr>\n",
       "  </thead>\n",
       "  <tbody>\n",
       "    <tr>\n",
       "      <th>47121</th>\n",
       "      <td>2020-05-08 18:10:25</td>\n",
       "      <td>project</td>\n",
       "      <td>NaN</td>\n",
       "      <td>e3c66498-9d45-4000-9392-f81e6796e7da</td>\n",
       "      <td>satellite_orbital_assembly</td>\n",
       "    </tr>\n",
       "    <tr>\n",
       "      <th>57398</th>\n",
       "      <td>2020-05-09 13:49:11</td>\n",
       "      <td>project</td>\n",
       "      <td>NaN</td>\n",
       "      <td>936e7af6-8338-4703-a1df-fc6c3f5b8e34</td>\n",
       "      <td>satellite_orbital_assembly</td>\n",
       "    </tr>\n",
       "    <tr>\n",
       "      <th>58797</th>\n",
       "      <td>2020-05-09 16:19:33</td>\n",
       "      <td>project</td>\n",
       "      <td>NaN</td>\n",
       "      <td>a4491c86-c498-4f74-a56e-65c136d0e9a1</td>\n",
       "      <td>satellite_orbital_assembly</td>\n",
       "    </tr>\n",
       "    <tr>\n",
       "      <th>61174</th>\n",
       "      <td>2020-05-09 20:29:01</td>\n",
       "      <td>project</td>\n",
       "      <td>NaN</td>\n",
       "      <td>85d9e675-562b-4329-8bbd-14d3b39096be</td>\n",
       "      <td>satellite_orbital_assembly</td>\n",
       "    </tr>\n",
       "    <tr>\n",
       "      <th>63770</th>\n",
       "      <td>2020-05-10 00:57:47</td>\n",
       "      <td>project</td>\n",
       "      <td>NaN</td>\n",
       "      <td>1889ca71-3c57-4e61-9ea6-a711971bbf0a</td>\n",
       "      <td>satellite_orbital_assembly</td>\n",
       "    </tr>\n",
       "  </tbody>\n",
       "</table>\n",
       "</div>"
      ],
      "text/plain": [
       "           event_datetime    event building_type  \\\n",
       "47121 2020-05-08 18:10:25  project           NaN   \n",
       "57398 2020-05-09 13:49:11  project           NaN   \n",
       "58797 2020-05-09 16:19:33  project           NaN   \n",
       "61174 2020-05-09 20:29:01  project           NaN   \n",
       "63770 2020-05-10 00:57:47  project           NaN   \n",
       "\n",
       "                                    user_id                project_type  \n",
       "47121  e3c66498-9d45-4000-9392-f81e6796e7da  satellite_orbital_assembly  \n",
       "57398  936e7af6-8338-4703-a1df-fc6c3f5b8e34  satellite_orbital_assembly  \n",
       "58797  a4491c86-c498-4f74-a56e-65c136d0e9a1  satellite_orbital_assembly  \n",
       "61174  85d9e675-562b-4329-8bbd-14d3b39096be  satellite_orbital_assembly  \n",
       "63770  1889ca71-3c57-4e61-9ea6-a711971bbf0a  satellite_orbital_assembly  "
      ]
     },
     "execution_count": 14,
     "metadata": {},
     "output_type": "execute_result"
    }
   ],
   "source": [
    "event.loc[event['project_type'] == 'satellite_orbital_assembly'].head()"
   ]
  },
  {
   "cell_type": "markdown",
   "id": "71a6d57e",
   "metadata": {},
   "source": [
    "The project_type 'satellite_orbital_assembly' has NaN values on building_type. The task mentioned that to reach the second stage, they need to do one of the following:\n",
    "\n",
    "- Defeat the first boss\n",
    "- Build an orbital satellite-assembly system\n",
    "\n",
    "So we can infer that satellite_orbital_assembly is also a building type, let's include that in the building type."
   ]
  },
  {
   "cell_type": "code",
   "execution_count": 15,
   "id": "786e0272",
   "metadata": {},
   "outputs": [],
   "source": [
    "event.loc[(event['project_type'] == 'satellite_orbital_assembly') & (event['building_type'].isnull()), 'building_type'] = 'satellite_orbital'"
   ]
  },
  {
   "cell_type": "code",
   "execution_count": 16,
   "id": "ee4dad65",
   "metadata": {},
   "outputs": [
    {
     "data": {
      "text/plain": [
       "spaceport            59325\n",
       "assembly_shop        54494\n",
       "research_center      14137\n",
       "satellite_orbital     1866\n",
       "Name: building_type, dtype: int64"
      ]
     },
     "execution_count": 16,
     "metadata": {},
     "output_type": "execute_result"
    }
   ],
   "source": [
    "event['building_type'].value_counts()"
   ]
  },
  {
   "cell_type": "code",
   "execution_count": 17,
   "id": "6c1722cf",
   "metadata": {},
   "outputs": [
    {
     "data": {
      "text/html": [
       "<div>\n",
       "<style scoped>\n",
       "    .dataframe tbody tr th:only-of-type {\n",
       "        vertical-align: middle;\n",
       "    }\n",
       "\n",
       "    .dataframe tbody tr th {\n",
       "        vertical-align: top;\n",
       "    }\n",
       "\n",
       "    .dataframe thead th {\n",
       "        text-align: right;\n",
       "    }\n",
       "</style>\n",
       "<table border=\"1\" class=\"dataframe\">\n",
       "  <thead>\n",
       "    <tr style=\"text-align: right;\">\n",
       "      <th></th>\n",
       "      <th>event_datetime</th>\n",
       "      <th>event</th>\n",
       "      <th>building_type</th>\n",
       "      <th>user_id</th>\n",
       "      <th>project_type</th>\n",
       "    </tr>\n",
       "  </thead>\n",
       "  <tbody>\n",
       "  </tbody>\n",
       "</table>\n",
       "</div>"
      ],
      "text/plain": [
       "Empty DataFrame\n",
       "Columns: [event_datetime, event, building_type, user_id, project_type]\n",
       "Index: []"
      ]
     },
     "execution_count": 17,
     "metadata": {},
     "output_type": "execute_result"
    }
   ],
   "source": [
    "event.loc[(event['event'] == 'project') & (event['building_type'].isnull())]"
   ]
  },
  {
   "cell_type": "markdown",
   "id": "d9aede6b",
   "metadata": {},
   "source": [
    "Now, it seems like the rest of the building_type is empty because users are finishing stage 1 by defeating the enemy, so we can fill them with 'NA' (Not Applicable)"
   ]
  },
  {
   "cell_type": "code",
   "execution_count": 18,
   "id": "a1f1efe4",
   "metadata": {},
   "outputs": [],
   "source": [
    "event['building_type'] = event['building_type'].fillna('NA')"
   ]
  },
  {
   "cell_type": "code",
   "execution_count": 19,
   "id": "cf948103",
   "metadata": {},
   "outputs": [
    {
     "data": {
      "text/plain": [
       "0"
      ]
     },
     "execution_count": 19,
     "metadata": {},
     "output_type": "execute_result"
    }
   ],
   "source": [
    "event['building_type'].isnull().sum()"
   ]
  },
  {
   "cell_type": "markdown",
   "id": "96103612",
   "metadata": {},
   "source": [
    "We have filled in building_type, now we can inspect project_type. We should be careful as there is a huge amount of missing values in this column. If it's not necessary, we may just leave it be as it may skew the dataset."
   ]
  },
  {
   "cell_type": "code",
   "execution_count": 20,
   "id": "fbbe55c1",
   "metadata": {},
   "outputs": [
    {
     "data": {
      "text/plain": [
       "spaceport          59325\n",
       "assembly_shop      54494\n",
       "research_center    14137\n",
       "NA                  5817\n",
       "Name: building_type, dtype: int64"
      ]
     },
     "execution_count": 20,
     "metadata": {},
     "output_type": "execute_result"
    }
   ],
   "source": [
    "event.loc[event['project_type'].isnull()]['building_type'].value_counts()"
   ]
  },
  {
   "cell_type": "markdown",
   "id": "2a99ab74",
   "metadata": {},
   "source": [
    "It seems like the missing values in the project_type column is because the users are constructing something that is not the goal of the game (i.e. orbital satellite-assembly system), we should just leave them be for now."
   ]
  },
  {
   "cell_type": "markdown",
   "id": "62ca31dc",
   "metadata": {},
   "source": [
    "### Additional Column"
   ]
  },
  {
   "cell_type": "code",
   "execution_count": 21,
   "id": "ae20d9b0",
   "metadata": {},
   "outputs": [],
   "source": [
    "event['date'] = event['event_datetime'].dt.date"
   ]
  },
  {
   "cell_type": "markdown",
   "id": "b566f8c1",
   "metadata": {},
   "source": [
    "### Conclusion\n",
    "\n",
    "1. We have removed 1 duplicate in the event dataset.\n",
    "2. We have filled in the missing values in the building_type column with appropriate values. The users who complete the stage 1 by building the satellite orbital system is registered as \"project\" event, so the building type is missing. Those missing values also include those who completed stage 1 by defeating the enemy.\n",
    "3. We left project type missing values as it is because there's so many of them and we haven't needed the column at the moment. "
   ]
  },
  {
   "cell_type": "markdown",
   "id": "70c486a6",
   "metadata": {},
   "source": [
    "## Exploratory Data Analysis\n",
    "<a name=\"eda\"></a>\n",
    "\n",
    "In this section we would explore the following:\n",
    "1. The number of users who finished stage 1 by building satellite orbital system or defeating the enemy.\n",
    "2. The length of time that users take to finish stage 1 of the game.\n",
    "3. The number of users who did not finish stage 1.\n",
    "4. The number of events based on dates."
   ]
  },
  {
   "cell_type": "markdown",
   "id": "176cc0f6",
   "metadata": {},
   "source": [
    "### Building Satellite Orbital System vs Defeating Enemy"
   ]
  },
  {
   "cell_type": "code",
   "execution_count": 22,
   "id": "0ee88634",
   "metadata": {},
   "outputs": [
    {
     "data": {
      "text/plain": [
       "building            127956\n",
       "finished_stage_1      5817\n",
       "project               1866\n",
       "Name: event, dtype: int64"
      ]
     },
     "execution_count": 22,
     "metadata": {},
     "output_type": "execute_result"
    }
   ],
   "source": [
    "event['event'].value_counts()"
   ]
  },
  {
   "cell_type": "markdown",
   "id": "bf5ee85e",
   "metadata": {},
   "source": [
    "Now we are going to take a look which users have finished stage 1."
   ]
  },
  {
   "cell_type": "code",
   "execution_count": 23,
   "id": "9ca5a3ca",
   "metadata": {},
   "outputs": [],
   "source": [
    "finished = event.query('event == \"finished_stage_1\"')\n",
    "finished_users = event[event['user_id'].isin(finished['user_id'])]"
   ]
  },
  {
   "cell_type": "code",
   "execution_count": 24,
   "id": "14086f44",
   "metadata": {},
   "outputs": [
    {
     "data": {
      "image/png": "[encoded data removed]",
      "text/plain": [
       "<Figure size 720x432 with 1 Axes>"
      ]
     },
     "metadata": {
      "needs_background": "light"
     },
     "output_type": "display_data"
    }
   ],
   "source": [
    "finished_by_date = finished.groupby('date')['user_id'].nunique()\n",
    "finished_by_date.columns = ['n_users']\n",
    "\n",
    "finished_by_date.plot(figsize=(10,6))\n",
    "plt.title('Number of Unique Users Passing Stage 1')\n",
    "plt.ylabel('Users')\n",
    "plt.grid(axis='y')\n",
    "plt.xticks(rotation=45);"
   ]
  },
  {
   "cell_type": "markdown",
   "id": "8dcdd32a",
   "metadata": {},
   "source": [
    "Based on the graph above, the number of users finishing the stage 1 are increasing steadily until it hits the peak around May 15 with more than 600 users, before decreasing until it's back close to zero on May 29."
   ]
  },
  {
   "cell_type": "code",
   "execution_count": 25,
   "id": "b55242bc",
   "metadata": {},
   "outputs": [
    {
     "data": {
      "text/plain": [
       "building            60786\n",
       "finished_stage_1     5817\n",
       "project              1866\n",
       "Name: event, dtype: int64"
      ]
     },
     "execution_count": 25,
     "metadata": {},
     "output_type": "execute_result"
    }
   ],
   "source": [
    "finished_users['event'].value_counts()"
   ]
  },
  {
   "cell_type": "markdown",
   "id": "973736b3",
   "metadata": {},
   "source": [
    "From users who have finished, in total there are 5817 users, all of them go through building stage more than 60,000 times and project 1866 times. We will find understand more about this by choosing one user."
   ]
  },
  {
   "cell_type": "code",
   "execution_count": 26,
   "id": "1d3c906f",
   "metadata": {},
   "outputs": [
    {
     "data": {
      "text/html": [
       "<div>\n",
       "<style scoped>\n",
       "    .dataframe tbody tr th:only-of-type {\n",
       "        vertical-align: middle;\n",
       "    }\n",
       "\n",
       "    .dataframe tbody tr th {\n",
       "        vertical-align: top;\n",
       "    }\n",
       "\n",
       "    .dataframe thead th {\n",
       "        text-align: right;\n",
       "    }\n",
       "</style>\n",
       "<table border=\"1\" class=\"dataframe\">\n",
       "  <thead>\n",
       "    <tr style=\"text-align: right;\">\n",
       "      <th></th>\n",
       "      <th>event_datetime</th>\n",
       "      <th>event</th>\n",
       "      <th>building_type</th>\n",
       "      <th>user_id</th>\n",
       "      <th>project_type</th>\n",
       "      <th>date</th>\n",
       "    </tr>\n",
       "  </thead>\n",
       "  <tbody>\n",
       "    <tr>\n",
       "      <th>1</th>\n",
       "      <td>2020-05-04 00:00:03</td>\n",
       "      <td>building</td>\n",
       "      <td>assembly_shop</td>\n",
       "      <td>c07b1c10-f477-44dc-81dc-ec82254b1347</td>\n",
       "      <td>NaN</td>\n",
       "      <td>2020-05-04</td>\n",
       "    </tr>\n",
       "    <tr>\n",
       "      <th>27085</th>\n",
       "      <td>2020-05-06 23:49:25</td>\n",
       "      <td>building</td>\n",
       "      <td>assembly_shop</td>\n",
       "      <td>c07b1c10-f477-44dc-81dc-ec82254b1347</td>\n",
       "      <td>NaN</td>\n",
       "      <td>2020-05-06</td>\n",
       "    </tr>\n",
       "    <tr>\n",
       "      <th>28866</th>\n",
       "      <td>2020-05-07 03:56:30</td>\n",
       "      <td>building</td>\n",
       "      <td>spaceport</td>\n",
       "      <td>c07b1c10-f477-44dc-81dc-ec82254b1347</td>\n",
       "      <td>NaN</td>\n",
       "      <td>2020-05-07</td>\n",
       "    </tr>\n",
       "    <tr>\n",
       "      <th>30712</th>\n",
       "      <td>2020-05-07 07:58:20</td>\n",
       "      <td>building</td>\n",
       "      <td>assembly_shop</td>\n",
       "      <td>c07b1c10-f477-44dc-81dc-ec82254b1347</td>\n",
       "      <td>NaN</td>\n",
       "      <td>2020-05-07</td>\n",
       "    </tr>\n",
       "    <tr>\n",
       "      <th>30946</th>\n",
       "      <td>2020-05-07 08:30:13</td>\n",
       "      <td>building</td>\n",
       "      <td>assembly_shop</td>\n",
       "      <td>c07b1c10-f477-44dc-81dc-ec82254b1347</td>\n",
       "      <td>NaN</td>\n",
       "      <td>2020-05-07</td>\n",
       "    </tr>\n",
       "    <tr>\n",
       "      <th>55068</th>\n",
       "      <td>2020-05-09 09:30:40</td>\n",
       "      <td>building</td>\n",
       "      <td>assembly_shop</td>\n",
       "      <td>c07b1c10-f477-44dc-81dc-ec82254b1347</td>\n",
       "      <td>NaN</td>\n",
       "      <td>2020-05-09</td>\n",
       "    </tr>\n",
       "    <tr>\n",
       "      <th>64546</th>\n",
       "      <td>2020-05-10 02:18:34</td>\n",
       "      <td>building</td>\n",
       "      <td>assembly_shop</td>\n",
       "      <td>c07b1c10-f477-44dc-81dc-ec82254b1347</td>\n",
       "      <td>NaN</td>\n",
       "      <td>2020-05-10</td>\n",
       "    </tr>\n",
       "    <tr>\n",
       "      <th>86329</th>\n",
       "      <td>2020-05-11 23:16:25</td>\n",
       "      <td>building</td>\n",
       "      <td>research_center</td>\n",
       "      <td>c07b1c10-f477-44dc-81dc-ec82254b1347</td>\n",
       "      <td>NaN</td>\n",
       "      <td>2020-05-11</td>\n",
       "    </tr>\n",
       "    <tr>\n",
       "      <th>88075</th>\n",
       "      <td>2020-05-12 04:26:44</td>\n",
       "      <td>building</td>\n",
       "      <td>research_center</td>\n",
       "      <td>c07b1c10-f477-44dc-81dc-ec82254b1347</td>\n",
       "      <td>NaN</td>\n",
       "      <td>2020-05-12</td>\n",
       "    </tr>\n",
       "    <tr>\n",
       "      <th>96373</th>\n",
       "      <td>2020-05-13 05:45:37</td>\n",
       "      <td>building</td>\n",
       "      <td>spaceport</td>\n",
       "      <td>c07b1c10-f477-44dc-81dc-ec82254b1347</td>\n",
       "      <td>NaN</td>\n",
       "      <td>2020-05-13</td>\n",
       "    </tr>\n",
       "    <tr>\n",
       "      <th>96714</th>\n",
       "      <td>2020-05-13 06:53:03</td>\n",
       "      <td>project</td>\n",
       "      <td>satellite_orbital</td>\n",
       "      <td>c07b1c10-f477-44dc-81dc-ec82254b1347</td>\n",
       "      <td>satellite_orbital_assembly</td>\n",
       "      <td>2020-05-13</td>\n",
       "    </tr>\n",
       "    <tr>\n",
       "      <th>104202</th>\n",
       "      <td>2020-05-14 07:07:27</td>\n",
       "      <td>building</td>\n",
       "      <td>spaceport</td>\n",
       "      <td>c07b1c10-f477-44dc-81dc-ec82254b1347</td>\n",
       "      <td>NaN</td>\n",
       "      <td>2020-05-14</td>\n",
       "    </tr>\n",
       "    <tr>\n",
       "      <th>110366</th>\n",
       "      <td>2020-05-15 05:29:13</td>\n",
       "      <td>finished_stage_1</td>\n",
       "      <td>NA</td>\n",
       "      <td>c07b1c10-f477-44dc-81dc-ec82254b1347</td>\n",
       "      <td>NaN</td>\n",
       "      <td>2020-05-15</td>\n",
       "    </tr>\n",
       "  </tbody>\n",
       "</table>\n",
       "</div>"
      ],
      "text/plain": [
       "            event_datetime             event      building_type  \\\n",
       "1      2020-05-04 00:00:03          building      assembly_shop   \n",
       "27085  2020-05-06 23:49:25          building      assembly_shop   \n",
       "28866  2020-05-07 03:56:30          building          spaceport   \n",
       "30712  2020-05-07 07:58:20          building      assembly_shop   \n",
       "30946  2020-05-07 08:30:13          building      assembly_shop   \n",
       "55068  2020-05-09 09:30:40          building      assembly_shop   \n",
       "64546  2020-05-10 02:18:34          building      assembly_shop   \n",
       "86329  2020-05-11 23:16:25          building    research_center   \n",
       "88075  2020-05-12 04:26:44          building    research_center   \n",
       "96373  2020-05-13 05:45:37          building          spaceport   \n",
       "96714  2020-05-13 06:53:03           project  satellite_orbital   \n",
       "104202 2020-05-14 07:07:27          building          spaceport   \n",
       "110366 2020-05-15 05:29:13  finished_stage_1                 NA   \n",
       "\n",
       "                                     user_id                project_type  \\\n",
       "1       c07b1c10-f477-44dc-81dc-ec82254b1347                         NaN   \n",
       "27085   c07b1c10-f477-44dc-81dc-ec82254b1347                         NaN   \n",
       "28866   c07b1c10-f477-44dc-81dc-ec82254b1347                         NaN   \n",
       "30712   c07b1c10-f477-44dc-81dc-ec82254b1347                         NaN   \n",
       "30946   c07b1c10-f477-44dc-81dc-ec82254b1347                         NaN   \n",
       "55068   c07b1c10-f477-44dc-81dc-ec82254b1347                         NaN   \n",
       "64546   c07b1c10-f477-44dc-81dc-ec82254b1347                         NaN   \n",
       "86329   c07b1c10-f477-44dc-81dc-ec82254b1347                         NaN   \n",
       "88075   c07b1c10-f477-44dc-81dc-ec82254b1347                         NaN   \n",
       "96373   c07b1c10-f477-44dc-81dc-ec82254b1347                         NaN   \n",
       "96714   c07b1c10-f477-44dc-81dc-ec82254b1347  satellite_orbital_assembly   \n",
       "104202  c07b1c10-f477-44dc-81dc-ec82254b1347                         NaN   \n",
       "110366  c07b1c10-f477-44dc-81dc-ec82254b1347                         NaN   \n",
       "\n",
       "              date  \n",
       "1       2020-05-04  \n",
       "27085   2020-05-06  \n",
       "28866   2020-05-07  \n",
       "30712   2020-05-07  \n",
       "30946   2020-05-07  \n",
       "55068   2020-05-09  \n",
       "64546   2020-05-10  \n",
       "86329   2020-05-11  \n",
       "88075   2020-05-12  \n",
       "96373   2020-05-13  \n",
       "96714   2020-05-13  \n",
       "104202  2020-05-14  \n",
       "110366  2020-05-15  "
      ]
     },
     "execution_count": 26,
     "metadata": {},
     "output_type": "execute_result"
    }
   ],
   "source": [
    "event[event['user_id'] == 'c07b1c10-f477-44dc-81dc-ec82254b1347']"
   ]
  },
  {
   "cell_type": "markdown",
   "id": "777b221a",
   "metadata": {},
   "source": [
    "The user above have more than 13 events. He tried building various buildings and eventually finished stage 1 around 11 days after he first started the game."
   ]
  },
  {
   "cell_type": "code",
   "execution_count": 27,
   "id": "3a132f8f",
   "metadata": {},
   "outputs": [
    {
     "data": {
      "text/plain": [
       "spaceport          27920\n",
       "assembly_shop      25414\n",
       "research_center     7452\n",
       "Name: building_type, dtype: int64"
      ]
     },
     "execution_count": 27,
     "metadata": {},
     "output_type": "execute_result"
    }
   ],
   "source": [
    "finished_users[finished_users['event'] == 'building']['building_type'].value_counts()"
   ]
  },
  {
   "cell_type": "markdown",
   "id": "6b892c59",
   "metadata": {},
   "source": [
    "Out of 60,786 events from 5817 users, nearly 28,000 events are building spaceport, more than 25000 are building assembly shop and nearly 7500 are building research centre. Even though users can only pass the first stage by building satellite orbital system.\n",
    "\n",
    "The big number of events in building, compared to the amount of users who eventually passed the first stage, indicates that most users try out different methods before finally passing the first stage. Now let's take a look only at users who passed by defeating the enemy.\n",
    "\n",
    "Since users can only pass either by doing the satellite orbital assembly project or defeating enemy, we can deduct the finished users by those who passed by project, the remaining users would pass by defeating enemy."
   ]
  },
  {
   "cell_type": "code",
   "execution_count": 28,
   "id": "1ba9fb70",
   "metadata": {},
   "outputs": [],
   "source": [
    "project_users = finished_users.loc[finished_users['event'] == 'project']['user_id']\n",
    "project = finished_users[finished_users['user_id'].isin(project_users)]"
   ]
  },
  {
   "cell_type": "code",
   "execution_count": 29,
   "id": "f4fcf5f9",
   "metadata": {},
   "outputs": [],
   "source": [
    "enemy = finished_users[~finished_users['user_id'].isin(project_users)]"
   ]
  },
  {
   "cell_type": "markdown",
   "id": "e09ed5e9",
   "metadata": {},
   "source": [
    "<div class=\"alert alert-block alert-info\">\n",
    "<b>Author's comment.</b> For this I got it from here \n",
    "<a>https://stackoverflow.com/questions/19960077/how-to-filter-pandas-dataframe-using-in-and-not-in-like-in-sql</a> <a class=\"tocSkip\"></a>\n",
    "</div>"
   ]
  },
  {
   "cell_type": "code",
   "execution_count": 30,
   "id": "47aaf55a",
   "metadata": {},
   "outputs": [
    {
     "data": {
      "text/html": [
       "<div>\n",
       "<style scoped>\n",
       "    .dataframe tbody tr th:only-of-type {\n",
       "        vertical-align: middle;\n",
       "    }\n",
       "\n",
       "    .dataframe tbody tr th {\n",
       "        vertical-align: top;\n",
       "    }\n",
       "\n",
       "    .dataframe thead th {\n",
       "        text-align: right;\n",
       "    }\n",
       "</style>\n",
       "<table border=\"1\" class=\"dataframe\">\n",
       "  <thead>\n",
       "    <tr style=\"text-align: right;\">\n",
       "      <th></th>\n",
       "      <th>event_datetime</th>\n",
       "      <th>event</th>\n",
       "      <th>building_type</th>\n",
       "      <th>user_id</th>\n",
       "      <th>project_type</th>\n",
       "      <th>date</th>\n",
       "    </tr>\n",
       "  </thead>\n",
       "  <tbody>\n",
       "    <tr>\n",
       "      <th>30473</th>\n",
       "      <td>2020-05-07 07:28:50</td>\n",
       "      <td>building</td>\n",
       "      <td>assembly_shop</td>\n",
       "      <td>515c1952-99aa-4bca-a7ea-d0449eb5385a</td>\n",
       "      <td>NaN</td>\n",
       "      <td>2020-05-07</td>\n",
       "    </tr>\n",
       "    <tr>\n",
       "      <th>47075</th>\n",
       "      <td>2020-05-08 18:05:14</td>\n",
       "      <td>building</td>\n",
       "      <td>spaceport</td>\n",
       "      <td>515c1952-99aa-4bca-a7ea-d0449eb5385a</td>\n",
       "      <td>NaN</td>\n",
       "      <td>2020-05-08</td>\n",
       "    </tr>\n",
       "    <tr>\n",
       "      <th>67618</th>\n",
       "      <td>2020-05-10 07:21:23</td>\n",
       "      <td>building</td>\n",
       "      <td>assembly_shop</td>\n",
       "      <td>515c1952-99aa-4bca-a7ea-d0449eb5385a</td>\n",
       "      <td>NaN</td>\n",
       "      <td>2020-05-10</td>\n",
       "    </tr>\n",
       "    <tr>\n",
       "      <th>89125</th>\n",
       "      <td>2020-05-12 07:42:12</td>\n",
       "      <td>building</td>\n",
       "      <td>spaceport</td>\n",
       "      <td>515c1952-99aa-4bca-a7ea-d0449eb5385a</td>\n",
       "      <td>NaN</td>\n",
       "      <td>2020-05-12</td>\n",
       "    </tr>\n",
       "    <tr>\n",
       "      <th>126662</th>\n",
       "      <td>2020-05-18 22:33:29</td>\n",
       "      <td>building</td>\n",
       "      <td>spaceport</td>\n",
       "      <td>515c1952-99aa-4bca-a7ea-d0449eb5385a</td>\n",
       "      <td>NaN</td>\n",
       "      <td>2020-05-18</td>\n",
       "    </tr>\n",
       "    <tr>\n",
       "      <th>130929</th>\n",
       "      <td>2020-05-20 23:27:00</td>\n",
       "      <td>building</td>\n",
       "      <td>spaceport</td>\n",
       "      <td>515c1952-99aa-4bca-a7ea-d0449eb5385a</td>\n",
       "      <td>NaN</td>\n",
       "      <td>2020-05-20</td>\n",
       "    </tr>\n",
       "    <tr>\n",
       "      <th>133040</th>\n",
       "      <td>2020-05-22 16:45:30</td>\n",
       "      <td>building</td>\n",
       "      <td>spaceport</td>\n",
       "      <td>515c1952-99aa-4bca-a7ea-d0449eb5385a</td>\n",
       "      <td>NaN</td>\n",
       "      <td>2020-05-22</td>\n",
       "    </tr>\n",
       "    <tr>\n",
       "      <th>134327</th>\n",
       "      <td>2020-05-24 15:52:46</td>\n",
       "      <td>building</td>\n",
       "      <td>spaceport</td>\n",
       "      <td>515c1952-99aa-4bca-a7ea-d0449eb5385a</td>\n",
       "      <td>NaN</td>\n",
       "      <td>2020-05-24</td>\n",
       "    </tr>\n",
       "    <tr>\n",
       "      <th>135159</th>\n",
       "      <td>2020-05-27 04:23:44</td>\n",
       "      <td>building</td>\n",
       "      <td>spaceport</td>\n",
       "      <td>515c1952-99aa-4bca-a7ea-d0449eb5385a</td>\n",
       "      <td>NaN</td>\n",
       "      <td>2020-05-27</td>\n",
       "    </tr>\n",
       "    <tr>\n",
       "      <th>135441</th>\n",
       "      <td>2020-05-29 02:59:03</td>\n",
       "      <td>building</td>\n",
       "      <td>spaceport</td>\n",
       "      <td>515c1952-99aa-4bca-a7ea-d0449eb5385a</td>\n",
       "      <td>NaN</td>\n",
       "      <td>2020-05-29</td>\n",
       "    </tr>\n",
       "    <tr>\n",
       "      <th>135624</th>\n",
       "      <td>2020-06-03 22:49:24</td>\n",
       "      <td>building</td>\n",
       "      <td>spaceport</td>\n",
       "      <td>515c1952-99aa-4bca-a7ea-d0449eb5385a</td>\n",
       "      <td>NaN</td>\n",
       "      <td>2020-06-03</td>\n",
       "    </tr>\n",
       "    <tr>\n",
       "      <th>135634</th>\n",
       "      <td>2020-06-04 18:14:33</td>\n",
       "      <td>building</td>\n",
       "      <td>research_center</td>\n",
       "      <td>515c1952-99aa-4bca-a7ea-d0449eb5385a</td>\n",
       "      <td>NaN</td>\n",
       "      <td>2020-06-04</td>\n",
       "    </tr>\n",
       "    <tr>\n",
       "      <th>135636</th>\n",
       "      <td>2020-06-05 02:25:12</td>\n",
       "      <td>finished_stage_1</td>\n",
       "      <td>NA</td>\n",
       "      <td>515c1952-99aa-4bca-a7ea-d0449eb5385a</td>\n",
       "      <td>NaN</td>\n",
       "      <td>2020-06-05</td>\n",
       "    </tr>\n",
       "  </tbody>\n",
       "</table>\n",
       "</div>"
      ],
      "text/plain": [
       "            event_datetime             event    building_type  \\\n",
       "30473  2020-05-07 07:28:50          building    assembly_shop   \n",
       "47075  2020-05-08 18:05:14          building        spaceport   \n",
       "67618  2020-05-10 07:21:23          building    assembly_shop   \n",
       "89125  2020-05-12 07:42:12          building        spaceport   \n",
       "126662 2020-05-18 22:33:29          building        spaceport   \n",
       "130929 2020-05-20 23:27:00          building        spaceport   \n",
       "133040 2020-05-22 16:45:30          building        spaceport   \n",
       "134327 2020-05-24 15:52:46          building        spaceport   \n",
       "135159 2020-05-27 04:23:44          building        spaceport   \n",
       "135441 2020-05-29 02:59:03          building        spaceport   \n",
       "135624 2020-06-03 22:49:24          building        spaceport   \n",
       "135634 2020-06-04 18:14:33          building  research_center   \n",
       "135636 2020-06-05 02:25:12  finished_stage_1               NA   \n",
       "\n",
       "                                     user_id project_type        date  \n",
       "30473   515c1952-99aa-4bca-a7ea-d0449eb5385a          NaN  2020-05-07  \n",
       "47075   515c1952-99aa-4bca-a7ea-d0449eb5385a          NaN  2020-05-08  \n",
       "67618   515c1952-99aa-4bca-a7ea-d0449eb5385a          NaN  2020-05-10  \n",
       "89125   515c1952-99aa-4bca-a7ea-d0449eb5385a          NaN  2020-05-12  \n",
       "126662  515c1952-99aa-4bca-a7ea-d0449eb5385a          NaN  2020-05-18  \n",
       "130929  515c1952-99aa-4bca-a7ea-d0449eb5385a          NaN  2020-05-20  \n",
       "133040  515c1952-99aa-4bca-a7ea-d0449eb5385a          NaN  2020-05-22  \n",
       "134327  515c1952-99aa-4bca-a7ea-d0449eb5385a          NaN  2020-05-24  \n",
       "135159  515c1952-99aa-4bca-a7ea-d0449eb5385a          NaN  2020-05-27  \n",
       "135441  515c1952-99aa-4bca-a7ea-d0449eb5385a          NaN  2020-05-29  \n",
       "135624  515c1952-99aa-4bca-a7ea-d0449eb5385a          NaN  2020-06-03  \n",
       "135634  515c1952-99aa-4bca-a7ea-d0449eb5385a          NaN  2020-06-04  \n",
       "135636  515c1952-99aa-4bca-a7ea-d0449eb5385a          NaN  2020-06-05  "
      ]
     },
     "execution_count": 30,
     "metadata": {},
     "output_type": "execute_result"
    }
   ],
   "source": [
    "enemy[enemy['user_id'] == \"515c1952-99aa-4bca-a7ea-d0449eb5385a\"]"
   ]
  },
  {
   "cell_type": "markdown",
   "id": "e85874f0",
   "metadata": {},
   "source": [
    "The user example above, also had 13 events, building various buildings until eventually passing nearly a month after they started the game. "
   ]
  },
  {
   "cell_type": "code",
   "execution_count": 31,
   "id": "ca8932f8",
   "metadata": {},
   "outputs": [
    {
     "data": {
      "text/plain": [
       "building            37185\n",
       "finished_stage_1     3951\n",
       "Name: event, dtype: int64"
      ]
     },
     "execution_count": 31,
     "metadata": {},
     "output_type": "execute_result"
    }
   ],
   "source": [
    "enemy['event'].value_counts()"
   ]
  },
  {
   "cell_type": "code",
   "execution_count": 32,
   "id": "c202263b",
   "metadata": {},
   "outputs": [
    {
     "data": {
      "text/plain": [
       "spaceport          17132\n",
       "assembly_shop      16298\n",
       "NA                  3951\n",
       "research_center     3755\n",
       "Name: building_type, dtype: int64"
      ]
     },
     "execution_count": 32,
     "metadata": {},
     "output_type": "execute_result"
    }
   ],
   "source": [
    "enemy['building_type'].value_counts()"
   ]
  },
  {
   "cell_type": "markdown",
   "id": "deb63094",
   "metadata": {},
   "source": [
    "There are 3951 users who pass the first stage by defeating the enemy. They also in total had nearly 40000 building events, most of them building spaceport and assembly shop. Then we can take a look at events and building type of those users who completed the first stage by doing a project."
   ]
  },
  {
   "cell_type": "code",
   "execution_count": 33,
   "id": "a5149024",
   "metadata": {},
   "outputs": [
    {
     "data": {
      "text/plain": [
       "building            23601\n",
       "finished_stage_1     1866\n",
       "project              1866\n",
       "Name: event, dtype: int64"
      ]
     },
     "execution_count": 33,
     "metadata": {},
     "output_type": "execute_result"
    }
   ],
   "source": [
    "project['event'].value_counts()"
   ]
  },
  {
   "cell_type": "code",
   "execution_count": 34,
   "id": "1dab730b",
   "metadata": {},
   "outputs": [
    {
     "data": {
      "text/plain": [
       "spaceport            10788\n",
       "assembly_shop         9116\n",
       "research_center       3697\n",
       "NA                    1866\n",
       "satellite_orbital     1866\n",
       "Name: building_type, dtype: int64"
      ]
     },
     "execution_count": 34,
     "metadata": {},
     "output_type": "execute_result"
    }
   ],
   "source": [
    "project['building_type'].value_counts()"
   ]
  },
  {
   "cell_type": "markdown",
   "id": "270152d3",
   "metadata": {},
   "source": [
    "Out of 1866 users who passed by constructing a project, they had more than 23000 building events, consisting of mostly building a spaceport, followed closely by assembly shop. Let's see how the two groups compare on their number of events."
   ]
  },
  {
   "cell_type": "markdown",
   "id": "5ddc2421",
   "metadata": {},
   "source": [
    "### Game Timeline"
   ]
  },
  {
   "cell_type": "markdown",
   "id": "0b5bac62",
   "metadata": {},
   "source": [
    "On the example of two users above, one user took 11 days and the other user took nearly a month before finally passing the first stage. In this section we would look further at how long does each user take to finish the first stage."
   ]
  },
  {
   "cell_type": "code",
   "execution_count": 35,
   "id": "f504708d",
   "metadata": {},
   "outputs": [],
   "source": [
    "first_event = event.groupby('user_id')['event_datetime'].min().reset_index()\n",
    "first_event.columns = ['user_id', 'first_event']"
   ]
  },
  {
   "cell_type": "code",
   "execution_count": 36,
   "id": "a73378fe",
   "metadata": {},
   "outputs": [],
   "source": [
    "event = event.merge(first_event, on='user_id', how='left')"
   ]
  },
  {
   "cell_type": "code",
   "execution_count": 37,
   "id": "22d8f877",
   "metadata": {},
   "outputs": [],
   "source": [
    "event['days_since_first'] = event['event_datetime'] - event['first_event']"
   ]
  },
  {
   "cell_type": "code",
   "execution_count": 38,
   "id": "dde88f5a",
   "metadata": {},
   "outputs": [],
   "source": [
    "event['days_since_first'] = event['days_since_first'] / np.timedelta64(1, 'D')\n",
    "event['days_since_first'] = event['days_since_first'].astype(int)"
   ]
  },
  {
   "cell_type": "markdown",
   "id": "23d48373",
   "metadata": {},
   "source": [
    "We can now divide the length of period that each users take on each event based on 7-day period."
   ]
  },
  {
   "cell_type": "markdown",
   "id": "dc0b02b1",
   "metadata": {},
   "source": [
    "<div class=\"alert alert-block alert-info\">\n",
    "<b>Author's comment.</b> I learned how to do the cut method from here\n",
    "<a>https://stackoverflow.com/questions/45751390/pandas-how-to-use-pd-cut</a> <a class=\"tocSkip\"></a>\n",
    "</div> "
   ]
  },
  {
   "cell_type": "code",
   "execution_count": 40,
   "id": "b5988250",
   "metadata": {},
   "outputs": [],
   "source": [
    "bins = [0, 7, 14, 28, 30]\n",
    "labels = [\"one\",\"two\",\"three\", \"three+\"]\n",
    "\n",
    "event['week'] = pd.cut(event['days_since_first'], bins=bins, labels=labels)"
   ]
  },
  {
   "cell_type": "code",
   "execution_count": 41,
   "id": "50c117de",
   "metadata": {},
   "outputs": [],
   "source": [
    "event['week'] = event['week'].astype(object)"
   ]
  },
  {
   "cell_type": "code",
   "execution_count": 42,
   "id": "6e0bd128",
   "metadata": {},
   "outputs": [],
   "source": [
    "event['week'] = event['week'].fillna('same day')"
   ]
  },
  {
   "cell_type": "code",
   "execution_count": 43,
   "id": "255cb900",
   "metadata": {},
   "outputs": [
    {
     "data": {
      "text/html": [
       "<div>\n",
       "<style scoped>\n",
       "    .dataframe tbody tr th:only-of-type {\n",
       "        vertical-align: middle;\n",
       "    }\n",
       "\n",
       "    .dataframe tbody tr th {\n",
       "        vertical-align: top;\n",
       "    }\n",
       "\n",
       "    .dataframe thead th {\n",
       "        text-align: right;\n",
       "    }\n",
       "</style>\n",
       "<table border=\"1\" class=\"dataframe\">\n",
       "  <thead>\n",
       "    <tr style=\"text-align: right;\">\n",
       "      <th></th>\n",
       "      <th>week</th>\n",
       "      <th>event</th>\n",
       "      <th>user_id</th>\n",
       "    </tr>\n",
       "  </thead>\n",
       "  <tbody>\n",
       "    <tr>\n",
       "      <th>0</th>\n",
       "      <td>same day</td>\n",
       "      <td>finished_stage_1</td>\n",
       "      <td>4</td>\n",
       "    </tr>\n",
       "    <tr>\n",
       "      <th>1</th>\n",
       "      <td>three+</td>\n",
       "      <td>building</td>\n",
       "      <td>5</td>\n",
       "    </tr>\n",
       "    <tr>\n",
       "      <th>2</th>\n",
       "      <td>three+</td>\n",
       "      <td>finished_stage_1</td>\n",
       "      <td>7</td>\n",
       "    </tr>\n",
       "    <tr>\n",
       "      <th>3</th>\n",
       "      <td>one</td>\n",
       "      <td>project</td>\n",
       "      <td>224</td>\n",
       "    </tr>\n",
       "    <tr>\n",
       "      <th>4</th>\n",
       "      <td>three</td>\n",
       "      <td>project</td>\n",
       "      <td>344</td>\n",
       "    </tr>\n",
       "    <tr>\n",
       "      <th>5</th>\n",
       "      <td>one</td>\n",
       "      <td>finished_stage_1</td>\n",
       "      <td>951</td>\n",
       "    </tr>\n",
       "    <tr>\n",
       "      <th>6</th>\n",
       "      <td>three</td>\n",
       "      <td>finished_stage_1</td>\n",
       "      <td>1171</td>\n",
       "    </tr>\n",
       "    <tr>\n",
       "      <th>7</th>\n",
       "      <td>two</td>\n",
       "      <td>project</td>\n",
       "      <td>1298</td>\n",
       "    </tr>\n",
       "    <tr>\n",
       "      <th>8</th>\n",
       "      <td>three</td>\n",
       "      <td>building</td>\n",
       "      <td>1779</td>\n",
       "    </tr>\n",
       "    <tr>\n",
       "      <th>9</th>\n",
       "      <td>two</td>\n",
       "      <td>finished_stage_1</td>\n",
       "      <td>3684</td>\n",
       "    </tr>\n",
       "    <tr>\n",
       "      <th>10</th>\n",
       "      <td>two</td>\n",
       "      <td>building</td>\n",
       "      <td>9589</td>\n",
       "    </tr>\n",
       "    <tr>\n",
       "      <th>11</th>\n",
       "      <td>one</td>\n",
       "      <td>building</td>\n",
       "      <td>13461</td>\n",
       "    </tr>\n",
       "    <tr>\n",
       "      <th>12</th>\n",
       "      <td>same day</td>\n",
       "      <td>building</td>\n",
       "      <td>13576</td>\n",
       "    </tr>\n",
       "  </tbody>\n",
       "</table>\n",
       "</div>"
      ],
      "text/plain": [
       "        week             event  user_id\n",
       "0   same day  finished_stage_1        4\n",
       "1     three+          building        5\n",
       "2     three+  finished_stage_1        7\n",
       "3        one           project      224\n",
       "4      three           project      344\n",
       "5        one  finished_stage_1      951\n",
       "6      three  finished_stage_1     1171\n",
       "7        two           project     1298\n",
       "8      three          building     1779\n",
       "9        two  finished_stage_1     3684\n",
       "10       two          building     9589\n",
       "11       one          building    13461\n",
       "12  same day          building    13576"
      ]
     },
     "execution_count": 43,
     "metadata": {},
     "output_type": "execute_result"
    }
   ],
   "source": [
    "(event\n",
    " .groupby(['week', 'event'])\n",
    " .agg({'user_id': 'nunique'})\n",
    " .sort_values('user_id')\n",
    " .reset_index()\n",
    ")"
   ]
  },
  {
   "cell_type": "markdown",
   "id": "80382f67",
   "metadata": {},
   "source": [
    "From the table above, we found that:\n",
    "- There are 4 users who finished on the same day as they started the game. \n",
    "- Most users finish by the third week since they start the game.\n",
    "- There are 5 users still building more than three weeks since they started.\n",
    "- The amount of users building decreases over time.\n",
    "- The amount of users doing a project increases significantly on the second week, but decreases again on the third.\n",
    "- No users do a project more than 3 weeks."
   ]
  },
  {
   "cell_type": "code",
   "execution_count": 44,
   "id": "1be16aa6",
   "metadata": {},
   "outputs": [],
   "source": [
    "enemy_user = event[event['user_id'].isin(enemy['user_id'])]\n",
    "project_user = event[event['user_id'].isin(project['user_id'])]"
   ]
  },
  {
   "cell_type": "code",
   "execution_count": 45,
   "id": "123144b0",
   "metadata": {},
   "outputs": [
    {
     "data": {
      "text/plain": [
       "two         2421\n",
       "one          897\n",
       "three        623\n",
       "three+         6\n",
       "same day       4\n",
       "Name: week, dtype: int64"
      ]
     },
     "execution_count": 45,
     "metadata": {},
     "output_type": "execute_result"
    }
   ],
   "source": [
    "enemy_user[enemy_user['event'] == 'finished_stage_1']['week'].value_counts()"
   ]
  },
  {
   "cell_type": "markdown",
   "id": "fb5f6548",
   "metadata": {},
   "source": [
    "For users who passed the first stage by defeating the enemy, more than 2400 of them passed on the 2nd week since the started playing."
   ]
  },
  {
   "cell_type": "code",
   "execution_count": 46,
   "id": "16c64ff4",
   "metadata": {},
   "outputs": [
    {
     "data": {
      "text/plain": [
       "two       1263\n",
       "three      548\n",
       "one         54\n",
       "three+       1\n",
       "Name: week, dtype: int64"
      ]
     },
     "execution_count": 46,
     "metadata": {},
     "output_type": "execute_result"
    }
   ],
   "source": [
    "project_user[project_user['event'] == 'finished_stage_1']['week'].value_counts()"
   ]
  },
  {
   "cell_type": "markdown",
   "id": "89f3aa3e",
   "metadata": {},
   "source": [
    "Similar result shows on users who passed by constructing a project, most of them also passed on the 2nd week. Although there are less project users who passed on the first week rather than the enemy users. This might mean either constructing satellite assembly system is harder than defeating the enemy OR the ads shown make them finish slower. We will take a look further in later stage of the analysis."
   ]
  },
  {
   "cell_type": "markdown",
   "id": "48196cb5",
   "metadata": {},
   "source": [
    "### Non-Completion of Stage 1"
   ]
  },
  {
   "cell_type": "markdown",
   "id": "10478a74",
   "metadata": {},
   "source": [
    "We have looked into the users who passed stage 1, it will be good to take a look at those who did not complete stage 1 to see if there's any possible reason."
   ]
  },
  {
   "cell_type": "code",
   "execution_count": 47,
   "id": "13f0ae81",
   "metadata": {},
   "outputs": [
    {
     "data": {
      "text/html": [
       "<div>\n",
       "<style scoped>\n",
       "    .dataframe tbody tr th:only-of-type {\n",
       "        vertical-align: middle;\n",
       "    }\n",
       "\n",
       "    .dataframe tbody tr th {\n",
       "        vertical-align: top;\n",
       "    }\n",
       "\n",
       "    .dataframe thead th {\n",
       "        text-align: right;\n",
       "    }\n",
       "</style>\n",
       "<table border=\"1\" class=\"dataframe\">\n",
       "  <thead>\n",
       "    <tr style=\"text-align: right;\">\n",
       "      <th></th>\n",
       "      <th>event_datetime</th>\n",
       "      <th>event</th>\n",
       "      <th>building_type</th>\n",
       "      <th>user_id</th>\n",
       "      <th>project_type</th>\n",
       "      <th>date</th>\n",
       "      <th>first_event</th>\n",
       "      <th>days_since_first</th>\n",
       "      <th>week</th>\n",
       "    </tr>\n",
       "  </thead>\n",
       "  <tbody>\n",
       "    <tr>\n",
       "      <th>0</th>\n",
       "      <td>2020-05-04 00:00:01</td>\n",
       "      <td>building</td>\n",
       "      <td>assembly_shop</td>\n",
       "      <td>55e92310-cb8e-4754-b622-597e124b03de</td>\n",
       "      <td>NaN</td>\n",
       "      <td>2020-05-04</td>\n",
       "      <td>2020-05-04 00:00:01</td>\n",
       "      <td>0</td>\n",
       "      <td>same day</td>\n",
       "    </tr>\n",
       "    <tr>\n",
       "      <th>3</th>\n",
       "      <td>2020-05-04 00:00:16</td>\n",
       "      <td>building</td>\n",
       "      <td>assembly_shop</td>\n",
       "      <td>92c69003-d60a-444a-827f-8cc51bf6bf4c</td>\n",
       "      <td>NaN</td>\n",
       "      <td>2020-05-04</td>\n",
       "      <td>2020-05-04 00:00:16</td>\n",
       "      <td>0</td>\n",
       "      <td>same day</td>\n",
       "    </tr>\n",
       "    <tr>\n",
       "      <th>5</th>\n",
       "      <td>2020-05-04 00:00:36</td>\n",
       "      <td>building</td>\n",
       "      <td>assembly_shop</td>\n",
       "      <td>06c592ca-902d-42bb-bac3-75ce84cca159</td>\n",
       "      <td>NaN</td>\n",
       "      <td>2020-05-04</td>\n",
       "      <td>2020-05-04 00:00:36</td>\n",
       "      <td>0</td>\n",
       "      <td>same day</td>\n",
       "    </tr>\n",
       "    <tr>\n",
       "      <th>7</th>\n",
       "      <td>2020-05-04 00:00:38</td>\n",
       "      <td>building</td>\n",
       "      <td>assembly_shop</td>\n",
       "      <td>beb8ca15-33a9-465d-b47b-89aa96f89c9a</td>\n",
       "      <td>NaN</td>\n",
       "      <td>2020-05-04</td>\n",
       "      <td>2020-05-04 00:00:38</td>\n",
       "      <td>0</td>\n",
       "      <td>same day</td>\n",
       "    </tr>\n",
       "    <tr>\n",
       "      <th>10</th>\n",
       "      <td>2020-05-04 00:01:59</td>\n",
       "      <td>building</td>\n",
       "      <td>assembly_shop</td>\n",
       "      <td>c99ecd61-1a4e-4bd2-b8b5-1f8bbcd2bdb5</td>\n",
       "      <td>NaN</td>\n",
       "      <td>2020-05-04</td>\n",
       "      <td>2020-05-04 00:01:59</td>\n",
       "      <td>0</td>\n",
       "      <td>same day</td>\n",
       "    </tr>\n",
       "  </tbody>\n",
       "</table>\n",
       "</div>"
      ],
      "text/plain": [
       "        event_datetime     event  building_type  \\\n",
       "0  2020-05-04 00:00:01  building  assembly_shop   \n",
       "3  2020-05-04 00:00:16  building  assembly_shop   \n",
       "5  2020-05-04 00:00:36  building  assembly_shop   \n",
       "7  2020-05-04 00:00:38  building  assembly_shop   \n",
       "10 2020-05-04 00:01:59  building  assembly_shop   \n",
       "\n",
       "                                 user_id project_type        date  \\\n",
       "0   55e92310-cb8e-4754-b622-597e124b03de          NaN  2020-05-04   \n",
       "3   92c69003-d60a-444a-827f-8cc51bf6bf4c          NaN  2020-05-04   \n",
       "5   06c592ca-902d-42bb-bac3-75ce84cca159          NaN  2020-05-04   \n",
       "7   beb8ca15-33a9-465d-b47b-89aa96f89c9a          NaN  2020-05-04   \n",
       "10  c99ecd61-1a4e-4bd2-b8b5-1f8bbcd2bdb5          NaN  2020-05-04   \n",
       "\n",
       "           first_event  days_since_first      week  \n",
       "0  2020-05-04 00:00:01                 0  same day  \n",
       "3  2020-05-04 00:00:16                 0  same day  \n",
       "5  2020-05-04 00:00:36                 0  same day  \n",
       "7  2020-05-04 00:00:38                 0  same day  \n",
       "10 2020-05-04 00:01:59                 0  same day  "
      ]
     },
     "execution_count": 47,
     "metadata": {},
     "output_type": "execute_result"
    }
   ],
   "source": [
    "not_finished = event[~event['user_id'].isin(finished['user_id'])]\n",
    "not_finished.head()"
   ]
  },
  {
   "cell_type": "code",
   "execution_count": 48,
   "id": "a47fdaba",
   "metadata": {},
   "outputs": [
    {
     "data": {
      "text/plain": [
       "7759"
      ]
     },
     "execution_count": 48,
     "metadata": {},
     "output_type": "execute_result"
    }
   ],
   "source": [
    "not_finished['user_id'].nunique()"
   ]
  },
  {
   "cell_type": "markdown",
   "id": "372193c0",
   "metadata": {},
   "source": [
    "There are 7759 users who did not pass stage 1. Let's check what they are doing."
   ]
  },
  {
   "cell_type": "code",
   "execution_count": 49,
   "id": "3b7484d3",
   "metadata": {},
   "outputs": [
    {
     "data": {
      "text/plain": [
       "building    67170\n",
       "Name: event, dtype: int64"
      ]
     },
     "execution_count": 49,
     "metadata": {},
     "output_type": "execute_result"
    }
   ],
   "source": [
    "not_finished['event'].value_counts()"
   ]
  },
  {
   "cell_type": "code",
   "execution_count": 50,
   "id": "ad00d855",
   "metadata": {},
   "outputs": [
    {
     "data": {
      "text/plain": [
       "spaceport          31405\n",
       "assembly_shop      29080\n",
       "research_center     6685\n",
       "Name: building_type, dtype: int64"
      ]
     },
     "execution_count": 50,
     "metadata": {},
     "output_type": "execute_result"
    }
   ],
   "source": [
    "not_finished['building_type'].value_counts()"
   ]
  },
  {
   "cell_type": "markdown",
   "id": "478ef278",
   "metadata": {},
   "source": [
    "All users only have building events, in total there are 67170 building events. More than half of those events are building spaceport, followed by assembly shop. "
   ]
  },
  {
   "cell_type": "code",
   "execution_count": 51,
   "id": "343c2b0c",
   "metadata": {},
   "outputs": [
    {
     "data": {
      "image/png": "[encoded data removed]",
      "text/plain": [
       "<Figure size 432x576 with 1 Axes>"
      ]
     },
     "metadata": {
      "needs_background": "light"
     },
     "output_type": "display_data"
    }
   ],
   "source": [
    "not_finished_event = not_finished.groupby('user_id')['event'].count().reset_index()\n",
    "not_finished_event.columns = ['user_id', 'n_event']\n",
    "\n",
    "not_finished_event.plot(kind='box', figsize=(6,8))\n",
    "plt.title(\"Boxplot of Users' Events Who Did Not Pass Stage 1\")\n",
    "plt.grid(axis='y')\n",
    "plt.xticks([1]);"
   ]
  },
  {
   "cell_type": "markdown",
   "id": "22ef483c",
   "metadata": {},
   "source": [
    "As we can see on the boxplot, most users have between 5-12 events, with a median of 7.5 events. The upper quartile goes up to 20 events per user, but there's no outlier."
   ]
  },
  {
   "cell_type": "code",
   "execution_count": 52,
   "id": "69db12af",
   "metadata": {},
   "outputs": [
    {
     "data": {
      "text/plain": [
       "count    67170.000000\n",
       "mean         4.667947\n",
       "std          4.139899\n",
       "min          0.000000\n",
       "25%          1.000000\n",
       "50%          4.000000\n",
       "75%          7.000000\n",
       "max         29.000000\n",
       "Name: days_since_first, dtype: float64"
      ]
     },
     "execution_count": 52,
     "metadata": {},
     "output_type": "execute_result"
    }
   ],
   "source": [
    "not_finished['days_since_first'].describe()"
   ]
  },
  {
   "cell_type": "code",
   "execution_count": 54,
   "id": "ef53b464",
   "metadata": {},
   "outputs": [
    {
     "data": {
      "image/png": "[encoded data removed]",
      "text/plain": [
       "<Figure size 432x576 with 1 Axes>"
      ]
     },
     "metadata": {
      "needs_background": "light"
     },
     "output_type": "display_data"
    }
   ],
   "source": [
    "not_finished['days_since_first'].plot(kind='box', figsize=(6,8))\n",
    "plt.title(\"Boxplot of Length of Gameplay of Users Who Did Not Pass Stage 1\")\n",
    "plt.grid()\n",
    "plt.xticks([1]);"
   ]
  },
  {
   "cell_type": "markdown",
   "id": "5aa52aaa",
   "metadata": {},
   "source": [
    "Based on the table and the boxplot, we can see that most users who didn't complete stage 1 play only for less than 5 days. The Q3 is only 7 days, although there are many outliers up to 29 days. It may not be needed for now, but it's good to check how many outliers are there and whether removing them would skew the analysis."
   ]
  },
  {
   "cell_type": "code",
   "execution_count": 57,
   "id": "20c0e117",
   "metadata": {},
   "outputs": [
    {
     "data": {
      "text/plain": [
       "0.011969629298794105"
      ]
     },
     "execution_count": 57,
     "metadata": {},
     "output_type": "execute_result"
    }
   ],
   "source": [
    "len(not_finished[not_finished['days_since_first'] > 16]) / len(not_finished)"
   ]
  },
  {
   "cell_type": "markdown",
   "id": "a1a08ed6",
   "metadata": {},
   "source": [
    "The outliers only make up 1.2% of the total users who did not finish the dataset. We can leave them be for now and if needed later, we will filter them out of the dataset."
   ]
  },
  {
   "cell_type": "markdown",
   "id": "0e6151c9",
   "metadata": {},
   "source": [
    "### Event Based on Dates"
   ]
  },
  {
   "cell_type": "code",
   "execution_count": 59,
   "id": "12ceca43",
   "metadata": {},
   "outputs": [
    {
     "name": "stdout",
     "output_type": "stream",
     "text": [
      "The first event in the event dataset is: 2020-05-04 00:00:01\n",
      "The last event in the event dataset is: 2020-06-05 12:32:49\n"
     ]
    }
   ],
   "source": [
    "print('The first event in the event dataset is:', event['event_datetime'].min())\n",
    "print('The last event in the event dataset is:', event['event_datetime'].max())"
   ]
  },
  {
   "cell_type": "markdown",
   "id": "f665b235",
   "metadata": {},
   "source": [
    "The dataset contains events for 31 days from May 4 to June 6. Let's see how are the user activities on each day."
   ]
  },
  {
   "cell_type": "code",
   "execution_count": 60,
   "id": "fd9b8958",
   "metadata": {},
   "outputs": [],
   "source": [
    "daily_event = event.groupby('date')['event'].count().reset_index()\n",
    "daily_event.columns = ['date', 'total_event']"
   ]
  },
  {
   "cell_type": "code",
   "execution_count": 69,
   "id": "c7e96326",
   "metadata": {},
   "outputs": [
    {
     "data": {
      "image/png": "[encoded data removed]",
      "text/plain": [
       "<Figure size 720x432 with 1 Axes>"
      ]
     },
     "metadata": {
      "needs_background": "light"
     },
     "output_type": "display_data"
    }
   ],
   "source": [
    "daily_event.plot(kind='line', x='date', y='total_event', figsize=(10, 6), legend=False)\n",
    "\n",
    "plt.title(\"Total Daily Event\")\n",
    "plt.xlabel('Date')\n",
    "plt.ylabel('Total Events')\n",
    "plt.grid(axis='y')\n",
    "plt.xticks(rotation=45);"
   ]
  },
  {
   "cell_type": "markdown",
   "id": "eb93d89b",
   "metadata": {},
   "source": [
    "Based on the graph above, we can see that there's a peak on the 6th day since the data entry starts, before having a significant decrease the day after. Afterwards the daily event continues to decrease until the all time low in the 25th day onwards."
   ]
  },
  {
   "cell_type": "code",
   "execution_count": 62,
   "id": "2cf22e21",
   "metadata": {},
   "outputs": [
    {
     "data": {
      "text/html": [
       "<div>\n",
       "<style scoped>\n",
       "    .dataframe tbody tr th:only-of-type {\n",
       "        vertical-align: middle;\n",
       "    }\n",
       "\n",
       "    .dataframe tbody tr th {\n",
       "        vertical-align: top;\n",
       "    }\n",
       "\n",
       "    .dataframe thead th {\n",
       "        text-align: right;\n",
       "    }\n",
       "</style>\n",
       "<table border=\"1\" class=\"dataframe\">\n",
       "  <thead>\n",
       "    <tr style=\"text-align: right;\">\n",
       "      <th></th>\n",
       "      <th>event_date</th>\n",
       "      <th>user_id</th>\n",
       "    </tr>\n",
       "  </thead>\n",
       "  <tbody>\n",
       "    <tr>\n",
       "      <th>0</th>\n",
       "      <td>2020-05-04</td>\n",
       "      <td>5860</td>\n",
       "    </tr>\n",
       "    <tr>\n",
       "      <th>1</th>\n",
       "      <td>2020-05-05</td>\n",
       "      <td>3361</td>\n",
       "    </tr>\n",
       "    <tr>\n",
       "      <th>2</th>\n",
       "      <td>2020-05-06</td>\n",
       "      <td>1847</td>\n",
       "    </tr>\n",
       "    <tr>\n",
       "      <th>3</th>\n",
       "      <td>2020-05-07</td>\n",
       "      <td>1109</td>\n",
       "    </tr>\n",
       "    <tr>\n",
       "      <th>4</th>\n",
       "      <td>2020-05-08</td>\n",
       "      <td>688</td>\n",
       "    </tr>\n",
       "    <tr>\n",
       "      <th>5</th>\n",
       "      <td>2020-05-09</td>\n",
       "      <td>440</td>\n",
       "    </tr>\n",
       "    <tr>\n",
       "      <th>6</th>\n",
       "      <td>2020-05-10</td>\n",
       "      <td>271</td>\n",
       "    </tr>\n",
       "  </tbody>\n",
       "</table>\n",
       "</div>"
      ],
      "text/plain": [
       "  event_date  user_id\n",
       "0 2020-05-04     5860\n",
       "1 2020-05-05     3361\n",
       "2 2020-05-06     1847\n",
       "3 2020-05-07     1109\n",
       "4 2020-05-08      688\n",
       "5 2020-05-09      440\n",
       "6 2020-05-10      271"
      ]
     },
     "execution_count": 62,
     "metadata": {},
     "output_type": "execute_result"
    }
   ],
   "source": [
    "user.groupby('event_date')['user_id'].nunique().reset_index()"
   ]
  },
  {
   "cell_type": "markdown",
   "id": "c5259026",
   "metadata": {},
   "source": [
    "The increase on activities above might coincide with the user advertisement, we can see that the user ads are running from May 4-10, during those dates the events are consistently above 8000 events."
   ]
  },
  {
   "cell_type": "code",
   "execution_count": 63,
   "id": "0162cb46",
   "metadata": {},
   "outputs": [],
   "source": [
    "user_daily_event = (event\n",
    "                    .groupby('date')\n",
    "                    .agg({'user_id': ['count', 'nunique']})\n",
    "                    .reset_index()\n",
    "                    )\n",
    "\n",
    "user_daily_event.columns = ['date', 'n_sessions', 'n_users']"
   ]
  },
  {
   "cell_type": "code",
   "execution_count": 76,
   "id": "e5cedcc4",
   "metadata": {},
   "outputs": [
    {
     "data": {
      "image/png": "[encoded data removed]",
      "text/plain": [
       "<Figure size 720x432 with 1 Axes>"
      ]
     },
     "metadata": {
      "needs_background": "light"
     },
     "output_type": "display_data"
    }
   ],
   "source": [
    "user_daily_event.plot(kind='line',\n",
    "                      x='date',\n",
    "                      y=['n_sessions', 'n_users'],\n",
    "                      figsize=(10,6))\n",
    "\n",
    "plt.title(\"Comparison of Daily Users and Sessions\")\n",
    "plt.xlabel('date')\n",
    "plt.ylabel('number of sessions/users')\n",
    "plt.xticks(rotation=45)\n",
    "plt.grid();"
   ]
  },
  {
   "cell_type": "markdown",
   "id": "729e09ff",
   "metadata": {},
   "source": [
    "The users and sessions are pretty similar, they increase until the 6th day then decrease significantly on 7th day, then steadily decreases until the end of the experiment. The spike in unique users caused higher spike of session on that day."
   ]
  },
  {
   "cell_type": "markdown",
   "id": "1797429d",
   "metadata": {},
   "source": [
    "### Conclusion"
   ]
  },
  {
   "cell_type": "markdown",
   "id": "71a6b979",
   "metadata": {},
   "source": [
    "1. Most users try out different methods before finally passing the first stage.\n",
    "2. There are more users who finished the game by defeating the enemy than those building a project.\n",
    "3. Both enemy and project users mostly finish the game by the second week, although there are less project users who passed on the first week rather than the enemy users. This might mean either constructing satellite assembly system is harder than defeating the enemy OR the ads shown make them finish slower.\n",
    "4. The users daily events show that the ads for the app is working, there is an increase of event up until the ad finished on the 6th day."
   ]
  },
  {
   "cell_type": "markdown",
   "id": "afda57d6",
   "metadata": {},
   "source": [
    "## Completion Rate Analysis"
   ]
  },
  {
   "cell_type": "markdown",
   "id": "0c77762a",
   "metadata": {},
   "source": [
    "Although the basic monetization of the game is still in the planning stages, it is expected that the app will show ads on the screen where the user selects the type of objects to be constructed. In this section, we will see if the presence of ads affect user's experience in the game, which may be indicated by:\n",
    "- lower number of users to complete stage 1\n",
    "- slower progress towards completion of stage 1"
   ]
  },
  {
   "cell_type": "code",
   "execution_count": 77,
   "id": "85d76c04",
   "metadata": {},
   "outputs": [
    {
     "name": "stdout",
     "output_type": "stream",
     "text": [
      "The amount of users who passed the first stage by constructing a building is: 1866\n",
      "The completion rate for the project building is: 13.74%\n",
      "\n",
      "The amount of users who passed the first stage by defeating the enemy is: 3951\n",
      "The completion rate for defeating enemy is: 29.10%\n"
     ]
    }
   ],
   "source": [
    "print('The amount of users who passed the first stage by constructing a building is:', project_user['user_id'].nunique())\n",
    "print('The completion rate for the project building is: {:.2%}'.format(project_user['user_id'].nunique() / event['user_id'].nunique()))\n",
    "print()\n",
    "print('The amount of users who passed the first stage by defeating the enemy is:', enemy_user['user_id'].nunique())\n",
    "print('The completion rate for defeating enemy is: {:.2%}'.format(enemy_user['user_id'].nunique() / event['user_id'].nunique()))"
   ]
  },
  {
   "cell_type": "markdown",
   "id": "806ca397",
   "metadata": {},
   "source": [
    "Based on the unique users above, we can see that there are more users who opt to defeat the enemy. Nearly 30% of users passed the first stage by defeating the enemy, while the users who build satellite orbital system is a bit less than 14%. Let's take a look how the number looks like based on date. "
   ]
  },
  {
   "cell_type": "code",
   "execution_count": 79,
   "id": "c077cbd4",
   "metadata": {},
   "outputs": [
    {
     "data": {
      "image/png": "[encoded data removed]",
      "text/plain": [
       "<Figure size 720x432 with 1 Axes>"
      ]
     },
     "metadata": {
      "needs_background": "light"
     },
     "output_type": "display_data"
    }
   ],
   "source": [
    "project_user.groupby('date')['user_id'].nunique().plot(figsize=(10,6), label='project')\n",
    "enemy_user.groupby('date')['user_id'].nunique().plot(figsize=(10,6), label='enemy')\n",
    "\n",
    "plt.title('Number of Unique Users Passing Stage 1')\n",
    "plt.ylabel('Users')\n",
    "plt.legend()\n",
    "plt.xticks(rotation=45)\n",
    "plt.grid();"
   ]
  },
  {
   "cell_type": "markdown",
   "id": "10599483",
   "metadata": {},
   "source": [
    "Based on the graph above, both the project and enemy users show similar trajectory. Although enemy users has steeper spike on May 10, around May 20 the line converges as they decrease toward the end of the experiment."
   ]
  },
  {
   "cell_type": "code",
   "execution_count": 80,
   "id": "696b090e",
   "metadata": {},
   "outputs": [],
   "source": [
    "project_event = project_user.groupby('user_id')['event'].count().reset_index()\n",
    "project_event.columns = ['user_id', 'n_events']\n",
    "\n",
    "enemy_event = enemy_user.groupby('user_id')['event'].count().reset_index()\n",
    "enemy_event.columns = ['user_id', 'n_events']"
   ]
  },
  {
   "cell_type": "code",
   "execution_count": 81,
   "id": "5fd824df",
   "metadata": {},
   "outputs": [
    {
     "data": {
      "text/plain": [
       "count    1866.000000\n",
       "mean       14.647910\n",
       "std         2.162522\n",
       "min        12.000000\n",
       "25%        13.000000\n",
       "50%        14.000000\n",
       "75%        16.000000\n",
       "max        22.000000\n",
       "Name: n_events, dtype: float64"
      ]
     },
     "execution_count": 81,
     "metadata": {},
     "output_type": "execute_result"
    }
   ],
   "source": [
    "project_event['n_events'].describe()"
   ]
  },
  {
   "cell_type": "code",
   "execution_count": 82,
   "id": "405cd4b4",
   "metadata": {},
   "outputs": [
    {
     "data": {
      "text/plain": [
       "count    3951.000000\n",
       "mean       10.411541\n",
       "std         3.059529\n",
       "min         3.000000\n",
       "25%         9.000000\n",
       "50%        11.000000\n",
       "75%        13.000000\n",
       "max        20.000000\n",
       "Name: n_events, dtype: float64"
      ]
     },
     "execution_count": 82,
     "metadata": {},
     "output_type": "execute_result"
    }
   ],
   "source": [
    "enemy_event['n_events'].describe()"
   ]
  },
  {
   "cell_type": "markdown",
   "id": "a6788d3c",
   "metadata": {},
   "source": [
    "Users who defeat the enemy has lesser events than those who construct a building. On average, each user who passes the first stage by constructing a building has 15 events while those who defeat the enemy has 10 events. Let's plot this to see more clearly."
   ]
  },
  {
   "cell_type": "code",
   "execution_count": 85,
   "id": "6b5b9d86",
   "metadata": {},
   "outputs": [
    {
     "data": {
      "image/png": "[encoded data removed]",
      "text/plain": [
       "<Figure size 576x432 with 1 Axes>"
      ]
     },
     "metadata": {
      "needs_background": "light"
     },
     "output_type": "display_data"
    }
   ],
   "source": [
    "data_a = enemy_event['n_events']\n",
    "data_b = project_event['n_events']\n",
    "\n",
    "ticks = ['Enemy', 'Project']\n",
    "\n",
    "def set_box_color(bp, color):\n",
    "    plt.setp(bp['boxes'], color=color)\n",
    "    plt.setp(bp['whiskers'], color=color)\n",
    "    plt.setp(bp['caps'], color=color)\n",
    "    plt.setp(bp['medians'], color=color)\n",
    "\n",
    "plt.figure(figsize=(8,6))\n",
    "\n",
    "bpl = plt.boxplot(data_a, positions=[0], widths = 0.6)\n",
    "bpr = plt.boxplot(data_b, positions=[2], widths = 0.6)\n",
    "set_box_color(bpl, '#D7191C')\n",
    "set_box_color(bpr, '#2C7BB6')\n",
    "\n",
    "plt.plot([], c='#D7191C', label='Enemy')\n",
    "plt.plot([], c='#2C7BB6', label='Project')\n",
    "plt.legend()\n",
    "\n",
    "plt.title('Boxplots of Events Per User Who Passed Stage 1')\n",
    "plt.xticks(range(0, len(ticks) * 2, 2), ticks)\n",
    "plt.xlim(-2, len(ticks)*2)\n",
    "plt.grid()\n",
    "plt.tight_layout();"
   ]
  },
  {
   "cell_type": "markdown",
   "id": "3e054f32",
   "metadata": {},
   "source": [
    "<div class=\"alert alert-block alert-info\">\n",
    "<b>Author's comment.</b> I learned how to stack boxplots from here\n",
    "<a>https://stackoverflow.com/questions/16592222/matplotlib-group-boxplots</a> <a class=\"tocSkip\"></a>\n",
    "</div>"
   ]
  },
  {
   "cell_type": "markdown",
   "id": "ddeff1e1",
   "metadata": {},
   "source": [
    "Based on the boxplots above, we can see that events per user for those who passed by doing a project are significantly higher than those who passed by defeating the enemy. The lower quartile of project users is higher than the median of enemy users. The Q1 of project users are on similar level as the Q3 of enemy users. This shows that most project users have to do a lot more events before passing stage 1, compared to enemy users. If we look back to the boxplot of users who didn't pass stage 1, the events they did is lower than the project users.\n",
    "\n",
    "There are several possible explanations about this:\n",
    "- users who didn't pass stage 1 don't have the patient to eventually find the right building and finish it\n",
    "- constructing a building is more difficult, so users have to come back multiple times to pass the first stage\n",
    "- users got distracted by the ads shown when they choose the building, so they didn't get to finish the game\n",
    "- constructing a building is more enjoyable, so users come back multiple times as they enjoy the process\n",
    "\n",
    "Out of these explanations, only the 4th explanation would justify the current monetisation model plan of showing ads to those constructing a building. There could be other possible explanations from other departments in the gaming company that we may not be aware yet, such as marketing efforts (push and email notifications for users who haven't completed the game yet), in which case such justification could be challenged."
   ]
  },
  {
   "cell_type": "markdown",
   "id": "e072699c",
   "metadata": {},
   "source": [
    "## Statistical Significance Testing\n",
    "<a name=\"sst\"></a>"
   ]
  },
  {
   "cell_type": "markdown",
   "id": "01e272a4",
   "metadata": {},
   "source": [
    "### Average Days of Finishing Stage 1"
   ]
  },
  {
   "cell_type": "markdown",
   "id": "bcadd478",
   "metadata": {},
   "source": [
    "1. Null and Alternative Hypotheses\n",
    "\n",
    "H0: The means of two statistical populations are equal. In this case it means that the average days it take to complete stage 1 of those who are shown ads is the same as those who aren't.\n",
    "\n",
    "H1: The means of two statistical populations are not equal. In this case it means that the average days it take to complete stage 1 of those who are shown ads is not the same as those who aren't.\n",
    "\n",
    "2. Criteria for a decision (alpha value)\n",
    "\n",
    "In behavioral science, the level of significance is typically set at 5% and we will choose this criteria as well. When the probability of obtaining a sample mean is less than 5% if the null hypothesis were true, then we reject the value stated in the null hypothesis.\n",
    "\n",
    "3. Calculate the t-test\n",
    "\n",
    "In order to test our hypothesis that the means of two statistical populations are equal based on samples taken from them, we will apply the method scipy.stats.ttest_ind().\n",
    "\n",
    "The method takes the following parameters:\n",
    "\n",
    "- array1, array2 are arrays containing the samples. We will use the days_since_first column for event occurence of finished_stage_1 on both groups.\n",
    "- equal_var is an optional parameter that specifies whether or not the variances of the populations should be considered equal."
   ]
  },
  {
   "cell_type": "code",
   "execution_count": 86,
   "id": "9b22c9de",
   "metadata": {},
   "outputs": [],
   "source": [
    "finished_enemy = enemy_user.query('event == \"finished_stage_1\"')\n",
    "finished_project = project_user.query('event == \"finished_stage_1\"')"
   ]
  },
  {
   "cell_type": "code",
   "execution_count": 89,
   "id": "9049b769",
   "metadata": {},
   "outputs": [
    {
     "name": "stdout",
     "output_type": "stream",
     "text": [
      "Enemy User Finishing Period Description\n",
      "count    3951.000000\n",
      "mean       10.606176\n",
      "std         4.106099\n",
      "min         0.000000\n",
      "25%         8.000000\n",
      "50%        10.000000\n",
      "75%        13.000000\n",
      "max        30.000000\n",
      "Name: days_since_first, dtype: float64\n",
      "\n",
      "Project User Finishing Period Description\n",
      "count    1866.000000\n",
      "mean       12.963023\n",
      "std         3.526723\n",
      "min         5.000000\n",
      "25%        10.000000\n",
      "50%        13.000000\n",
      "75%        15.000000\n",
      "max        29.000000\n",
      "Name: days_since_first, dtype: float64\n"
     ]
    }
   ],
   "source": [
    "print('Enemy User Finishing Period Description')\n",
    "print(finished_enemy['days_since_first'].describe())\n",
    "print()\n",
    "print('Project User Finishing Period Description')\n",
    "print(finished_project['days_since_first'].describe())"
   ]
  },
  {
   "cell_type": "markdown",
   "id": "a2817b88",
   "metadata": {},
   "source": [
    "Based on the description above, the two groups don't seem to have a significant difference, let's test it just to be sure."
   ]
  },
  {
   "cell_type": "code",
   "execution_count": 88,
   "id": "a3d9ec32",
   "metadata": {},
   "outputs": [
    {
     "data": {
      "text/plain": [
       "LeveneResult(statistic=36.45892228838066, pvalue=1.6555914307834046e-09)"
      ]
     },
     "execution_count": 88,
     "metadata": {},
     "output_type": "execute_result"
    }
   ],
   "source": [
    "st.levene(finished_enemy['days_since_first'], finished_project['days_since_first'])"
   ]
  },
  {
   "cell_type": "markdown",
   "id": "886baae6",
   "metadata": {},
   "source": [
    "The p-value suggests that the populations do not have equal variance. Therefore we will set equal_var to False."
   ]
  },
  {
   "cell_type": "markdown",
   "id": "6bd85e19",
   "metadata": {},
   "source": [
    "<div class=\"alert alert-block alert-info\">\n",
    "<b>Author's comment.</b> I learned about the equal variance testing here\n",
    "<a>https://www.marsja.se/levenes-bartletts-test-of-equality-homogeneity-of-variance-in-python/</a> <a class=\"tocSkip\"></a>\n",
    "</div>\n"
   ]
  },
  {
   "cell_type": "code",
   "execution_count": 94,
   "id": "38c62eb3",
   "metadata": {},
   "outputs": [
    {
     "name": "stdout",
     "output_type": "stream",
     "text": [
      "p-value: 2.6237027268064204e-106\n",
      "We reject the null hypotheses. Enemy and Project users' average days of finishing stage 1 are different.\n"
     ]
    }
   ],
   "source": [
    "alpha = 0.05\n",
    "\n",
    "results = st.ttest_ind(finished_enemy['days_since_first'], finished_project['days_since_first'], equal_var=False)\n",
    "\n",
    "print('p-value:',results.pvalue)\n",
    "\n",
    "if (results.pvalue < alpha):\n",
    "    print(\"We reject the null hypotheses. Enemy and Project users' average days of finishing stage 1 are different.\")\n",
    "else:\n",
    "    print(\"We retain the null hypotheses. Enemy and Project users' average days of finishing stage 1 are the same.\")"
   ]
  },
  {
   "cell_type": "markdown",
   "id": "2bf741ae",
   "metadata": {},
   "source": [
    "Based on the p-value, the average days needed for users to finish stage 1 between the two methods are different. We will plot them on a histogram below to get a clearer view."
   ]
  },
  {
   "cell_type": "code",
   "execution_count": 95,
   "id": "7504c835",
   "metadata": {},
   "outputs": [
    {
     "data": {
      "image/png": "[encoded data removed]",
      "text/plain": [
       "<Figure size 720x432 with 1 Axes>"
      ]
     },
     "metadata": {
      "needs_background": "light"
     },
     "output_type": "display_data"
    }
   ],
   "source": [
    "finished_enemy['days_since_first'].plot(kind='hist', figsize=(10,6), label='enemy')\n",
    "finished_project['days_since_first'].plot(kind='hist', figsize=(10,6), label='project')\n",
    "\n",
    "plt.title('Number of Days Users Need to Pass Stage 1')\n",
    "plt.ylabel('Users')\n",
    "plt.legend()\n",
    "plt.xticks(rotation=45)\n",
    "plt.grid();"
   ]
  },
  {
   "cell_type": "markdown",
   "id": "21fc76ba",
   "metadata": {},
   "source": [
    "Based on the histogram, we can see that the distribution for enemy users are more normal, with a peak around day 10. While The project users are more positively skewed, although the peak is pretty much the same as the enemy users."
   ]
  },
  {
   "cell_type": "markdown",
   "id": "575c6751",
   "metadata": {},
   "source": [
    "## Overall Conclusion\n",
    "<a name=\"cons\"></a>\n",
    "\n",
    "1. We have inspected three datasets for this report:\n",
    "- event dataset contains data about user events in the game app\n",
    "- user and ad dataset contains data about advertising activities\n",
    "2. We have preprocessed the event dataset prior to analysis by removing duplicates, filling in missing values and adding relevant columns\n",
    "3. Through the exploratory data analysis, we found that:\n",
    "- most users try out different methods before finally passing the first stage, this is reflected in the high number of building events.\n",
    "- there are higher amount of users who finished the game by defeating the enemy than those building a project, these enemy users finish faster too. This might indicate the difficulty of constructing buildings or the distraction of having been shown advertisement during gameplay.\n",
    "- the users who didn't pass stage 1 play for much shorter time than those who did, with the average of only less than 5 days.\n",
    "- the users daily events show that the ads for the app is working, there is an increase of event up until the ad finished on the 6th day.\n",
    "4. We found that the completion rate of enemy users is twice higher than the project users, and the project users have to do a lot more events than the enemy users. We might need to do further survey whether the users do this because the gameplay of constructing a building is more enjoyable than defeating enemy, or they do it because constructing the building is too difficult/distracting with the ads shown.\n",
    "5. We found through significance testing that the average number of days for finishing stage 1 between enemy and project users are different.\n",
    "\n",
    "Recommendations:\n",
    "- Conduct a survey for users who are constructing buildings whether the gameplay is too difficult.\n",
    "- Build another monetisation model that doesn't involve advertisement during gameplay, instead showing advertisement at the start of the app, for example."
   ]
  }
 ],
 "metadata": {
  "ExecuteTimeLog": [
   {
    "duration": 163,
    "start_time": "2022-03-30T13:05:37.790Z"
   }
  ],
  "kernelspec": {
   "display_name": "Python 3",
   "language": "python",
   "name": "python3"
  },
  "language_info": {
   "codemirror_mode": {
    "name": "ipython",
    "version": 3
   },
   "file_extension": ".py",
   "mimetype": "text/x-python",
   "name": "python",
   "nbconvert_exporter": "python",
   "pygments_lexer": "ipython3",
   "version": "3.8.8"
  },
  "toc": {
   "base_numbering": 1,
   "nav_menu": {},
   "number_sections": true,
   "sideBar": true,
   "skip_h1_title": true,
   "title_cell": "Table of Contents",
   "title_sidebar": "Contents",
   "toc_cell": false,
   "toc_position": {},
   "toc_section_display": true,
   "toc_window_display": false
  }
 },
 "nbformat": 4,
 "nbformat_minor": 5
}
